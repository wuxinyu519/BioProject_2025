{
  "nbformat": 4,
  "nbformat_minor": 0,
  "metadata": {
    "colab": {
      "provenance": [],
      "gpuType": "T4"
    },
    "kernelspec": {
      "name": "python3",
      "display_name": "Python 3"
    },
    "language_info": {
      "name": "python"
    },
    "widgets": {
      "application/vnd.jupyter.widget-state+json": {
        "9296762e5ad4496b926da3e2d1d2e2b4": {
          "model_module": "@jupyter-widgets/controls",
          "model_name": "HBoxModel",
          "model_module_version": "1.5.0",
          "state": {
            "_dom_classes": [],
            "_model_module": "@jupyter-widgets/controls",
            "_model_module_version": "1.5.0",
            "_model_name": "HBoxModel",
            "_view_count": null,
            "_view_module": "@jupyter-widgets/controls",
            "_view_module_version": "1.5.0",
            "_view_name": "HBoxView",
            "box_style": "",
            "children": [
              "IPY_MODEL_ad5744eaa54941099d7efe981217de01",
              "IPY_MODEL_e3f7d9ef8aff4785b32c817b597237be",
              "IPY_MODEL_abb45bf1c84f4444a665bb679ee11d34"
            ],
            "layout": "IPY_MODEL_0aa9a8630f5b459bbe26c5098e0b9d9b"
          }
        },
        "ad5744eaa54941099d7efe981217de01": {
          "model_module": "@jupyter-widgets/controls",
          "model_name": "HTMLModel",
          "model_module_version": "1.5.0",
          "state": {
            "_dom_classes": [],
            "_model_module": "@jupyter-widgets/controls",
            "_model_module_version": "1.5.0",
            "_model_name": "HTMLModel",
            "_view_count": null,
            "_view_module": "@jupyter-widgets/controls",
            "_view_module_version": "1.5.0",
            "_view_name": "HTMLView",
            "description": "",
            "description_tooltip": null,
            "layout": "IPY_MODEL_5e627ec70dea48199619f3c8ed02967d",
            "placeholder": "​",
            "style": "IPY_MODEL_5b3c5a72475f4a2885b8314be703b0cd",
            "value": "tokenizer_config.json: 100%"
          }
        },
        "e3f7d9ef8aff4785b32c817b597237be": {
          "model_module": "@jupyter-widgets/controls",
          "model_name": "FloatProgressModel",
          "model_module_version": "1.5.0",
          "state": {
            "_dom_classes": [],
            "_model_module": "@jupyter-widgets/controls",
            "_model_module_version": "1.5.0",
            "_model_name": "FloatProgressModel",
            "_view_count": null,
            "_view_module": "@jupyter-widgets/controls",
            "_view_module_version": "1.5.0",
            "_view_name": "ProgressView",
            "bar_style": "success",
            "description": "",
            "description_tooltip": null,
            "layout": "IPY_MODEL_34102245e78b4ef2a3545bed057a9eb6",
            "max": 95,
            "min": 0,
            "orientation": "horizontal",
            "style": "IPY_MODEL_b1ee57502c1e479b9e1ff86324a70b26",
            "value": 95
          }
        },
        "abb45bf1c84f4444a665bb679ee11d34": {
          "model_module": "@jupyter-widgets/controls",
          "model_name": "HTMLModel",
          "model_module_version": "1.5.0",
          "state": {
            "_dom_classes": [],
            "_model_module": "@jupyter-widgets/controls",
            "_model_module_version": "1.5.0",
            "_model_name": "HTMLModel",
            "_view_count": null,
            "_view_module": "@jupyter-widgets/controls",
            "_view_module_version": "1.5.0",
            "_view_name": "HTMLView",
            "description": "",
            "description_tooltip": null,
            "layout": "IPY_MODEL_daffe05d9c194e01b1d0363221212ef5",
            "placeholder": "​",
            "style": "IPY_MODEL_b5e0694c7bdd4f2ca1b1aede72470227",
            "value": " 95.0/95.0 [00:00&lt;00:00, 4.36kB/s]"
          }
        },
        "0aa9a8630f5b459bbe26c5098e0b9d9b": {
          "model_module": "@jupyter-widgets/base",
          "model_name": "LayoutModel",
          "model_module_version": "1.2.0",
          "state": {
            "_model_module": "@jupyter-widgets/base",
            "_model_module_version": "1.2.0",
            "_model_name": "LayoutModel",
            "_view_count": null,
            "_view_module": "@jupyter-widgets/base",
            "_view_module_version": "1.2.0",
            "_view_name": "LayoutView",
            "align_content": null,
            "align_items": null,
            "align_self": null,
            "border": null,
            "bottom": null,
            "display": null,
            "flex": null,
            "flex_flow": null,
            "grid_area": null,
            "grid_auto_columns": null,
            "grid_auto_flow": null,
            "grid_auto_rows": null,
            "grid_column": null,
            "grid_gap": null,
            "grid_row": null,
            "grid_template_areas": null,
            "grid_template_columns": null,
            "grid_template_rows": null,
            "height": null,
            "justify_content": null,
            "justify_items": null,
            "left": null,
            "margin": null,
            "max_height": null,
            "max_width": null,
            "min_height": null,
            "min_width": null,
            "object_fit": null,
            "object_position": null,
            "order": null,
            "overflow": null,
            "overflow_x": null,
            "overflow_y": null,
            "padding": null,
            "right": null,
            "top": null,
            "visibility": null,
            "width": null
          }
        },
        "5e627ec70dea48199619f3c8ed02967d": {
          "model_module": "@jupyter-widgets/base",
          "model_name": "LayoutModel",
          "model_module_version": "1.2.0",
          "state": {
            "_model_module": "@jupyter-widgets/base",
            "_model_module_version": "1.2.0",
            "_model_name": "LayoutModel",
            "_view_count": null,
            "_view_module": "@jupyter-widgets/base",
            "_view_module_version": "1.2.0",
            "_view_name": "LayoutView",
            "align_content": null,
            "align_items": null,
            "align_self": null,
            "border": null,
            "bottom": null,
            "display": null,
            "flex": null,
            "flex_flow": null,
            "grid_area": null,
            "grid_auto_columns": null,
            "grid_auto_flow": null,
            "grid_auto_rows": null,
            "grid_column": null,
            "grid_gap": null,
            "grid_row": null,
            "grid_template_areas": null,
            "grid_template_columns": null,
            "grid_template_rows": null,
            "height": null,
            "justify_content": null,
            "justify_items": null,
            "left": null,
            "margin": null,
            "max_height": null,
            "max_width": null,
            "min_height": null,
            "min_width": null,
            "object_fit": null,
            "object_position": null,
            "order": null,
            "overflow": null,
            "overflow_x": null,
            "overflow_y": null,
            "padding": null,
            "right": null,
            "top": null,
            "visibility": null,
            "width": null
          }
        },
        "5b3c5a72475f4a2885b8314be703b0cd": {
          "model_module": "@jupyter-widgets/controls",
          "model_name": "DescriptionStyleModel",
          "model_module_version": "1.5.0",
          "state": {
            "_model_module": "@jupyter-widgets/controls",
            "_model_module_version": "1.5.0",
            "_model_name": "DescriptionStyleModel",
            "_view_count": null,
            "_view_module": "@jupyter-widgets/base",
            "_view_module_version": "1.2.0",
            "_view_name": "StyleView",
            "description_width": ""
          }
        },
        "34102245e78b4ef2a3545bed057a9eb6": {
          "model_module": "@jupyter-widgets/base",
          "model_name": "LayoutModel",
          "model_module_version": "1.2.0",
          "state": {
            "_model_module": "@jupyter-widgets/base",
            "_model_module_version": "1.2.0",
            "_model_name": "LayoutModel",
            "_view_count": null,
            "_view_module": "@jupyter-widgets/base",
            "_view_module_version": "1.2.0",
            "_view_name": "LayoutView",
            "align_content": null,
            "align_items": null,
            "align_self": null,
            "border": null,
            "bottom": null,
            "display": null,
            "flex": null,
            "flex_flow": null,
            "grid_area": null,
            "grid_auto_columns": null,
            "grid_auto_flow": null,
            "grid_auto_rows": null,
            "grid_column": null,
            "grid_gap": null,
            "grid_row": null,
            "grid_template_areas": null,
            "grid_template_columns": null,
            "grid_template_rows": null,
            "height": null,
            "justify_content": null,
            "justify_items": null,
            "left": null,
            "margin": null,
            "max_height": null,
            "max_width": null,
            "min_height": null,
            "min_width": null,
            "object_fit": null,
            "object_position": null,
            "order": null,
            "overflow": null,
            "overflow_x": null,
            "overflow_y": null,
            "padding": null,
            "right": null,
            "top": null,
            "visibility": null,
            "width": null
          }
        },
        "b1ee57502c1e479b9e1ff86324a70b26": {
          "model_module": "@jupyter-widgets/controls",
          "model_name": "ProgressStyleModel",
          "model_module_version": "1.5.0",
          "state": {
            "_model_module": "@jupyter-widgets/controls",
            "_model_module_version": "1.5.0",
            "_model_name": "ProgressStyleModel",
            "_view_count": null,
            "_view_module": "@jupyter-widgets/base",
            "_view_module_version": "1.2.0",
            "_view_name": "StyleView",
            "bar_color": null,
            "description_width": ""
          }
        },
        "daffe05d9c194e01b1d0363221212ef5": {
          "model_module": "@jupyter-widgets/base",
          "model_name": "LayoutModel",
          "model_module_version": "1.2.0",
          "state": {
            "_model_module": "@jupyter-widgets/base",
            "_model_module_version": "1.2.0",
            "_model_name": "LayoutModel",
            "_view_count": null,
            "_view_module": "@jupyter-widgets/base",
            "_view_module_version": "1.2.0",
            "_view_name": "LayoutView",
            "align_content": null,
            "align_items": null,
            "align_self": null,
            "border": null,
            "bottom": null,
            "display": null,
            "flex": null,
            "flex_flow": null,
            "grid_area": null,
            "grid_auto_columns": null,
            "grid_auto_flow": null,
            "grid_auto_rows": null,
            "grid_column": null,
            "grid_gap": null,
            "grid_row": null,
            "grid_template_areas": null,
            "grid_template_columns": null,
            "grid_template_rows": null,
            "height": null,
            "justify_content": null,
            "justify_items": null,
            "left": null,
            "margin": null,
            "max_height": null,
            "max_width": null,
            "min_height": null,
            "min_width": null,
            "object_fit": null,
            "object_position": null,
            "order": null,
            "overflow": null,
            "overflow_x": null,
            "overflow_y": null,
            "padding": null,
            "right": null,
            "top": null,
            "visibility": null,
            "width": null
          }
        },
        "b5e0694c7bdd4f2ca1b1aede72470227": {
          "model_module": "@jupyter-widgets/controls",
          "model_name": "DescriptionStyleModel",
          "model_module_version": "1.5.0",
          "state": {
            "_model_module": "@jupyter-widgets/controls",
            "_model_module_version": "1.5.0",
            "_model_name": "DescriptionStyleModel",
            "_view_count": null,
            "_view_module": "@jupyter-widgets/base",
            "_view_module_version": "1.2.0",
            "_view_name": "StyleView",
            "description_width": ""
          }
        },
        "fb3a79a4ae07430083c21a6398532377": {
          "model_module": "@jupyter-widgets/controls",
          "model_name": "HBoxModel",
          "model_module_version": "1.5.0",
          "state": {
            "_dom_classes": [],
            "_model_module": "@jupyter-widgets/controls",
            "_model_module_version": "1.5.0",
            "_model_name": "HBoxModel",
            "_view_count": null,
            "_view_module": "@jupyter-widgets/controls",
            "_view_module_version": "1.5.0",
            "_view_name": "HBoxView",
            "box_style": "",
            "children": [
              "IPY_MODEL_a1283faec2d3404ba0b63e5c26d741bc",
              "IPY_MODEL_5e8bea33503748c19207699817944f07",
              "IPY_MODEL_60916b31dd50455f88ee950a910f8316"
            ],
            "layout": "IPY_MODEL_c0bdecebb5734ff08d4f03a1a3e379f1"
          }
        },
        "a1283faec2d3404ba0b63e5c26d741bc": {
          "model_module": "@jupyter-widgets/controls",
          "model_name": "HTMLModel",
          "model_module_version": "1.5.0",
          "state": {
            "_dom_classes": [],
            "_model_module": "@jupyter-widgets/controls",
            "_model_module_version": "1.5.0",
            "_model_name": "HTMLModel",
            "_view_count": null,
            "_view_module": "@jupyter-widgets/controls",
            "_view_module_version": "1.5.0",
            "_view_name": "HTMLView",
            "description": "",
            "description_tooltip": null,
            "layout": "IPY_MODEL_4cd244a3e11d42ceaf259187092b79d4",
            "placeholder": "​",
            "style": "IPY_MODEL_7710dc429a1449d9843c8216b85ee9be",
            "value": "vocab.txt: 100%"
          }
        },
        "5e8bea33503748c19207699817944f07": {
          "model_module": "@jupyter-widgets/controls",
          "model_name": "FloatProgressModel",
          "model_module_version": "1.5.0",
          "state": {
            "_dom_classes": [],
            "_model_module": "@jupyter-widgets/controls",
            "_model_module_version": "1.5.0",
            "_model_name": "FloatProgressModel",
            "_view_count": null,
            "_view_module": "@jupyter-widgets/controls",
            "_view_module_version": "1.5.0",
            "_view_name": "ProgressView",
            "bar_style": "success",
            "description": "",
            "description_tooltip": null,
            "layout": "IPY_MODEL_fb6567fc1e454565ad6b04e8b42251d4",
            "max": 93,
            "min": 0,
            "orientation": "horizontal",
            "style": "IPY_MODEL_41ac14de9364494cba8e1d8e306b1015",
            "value": 93
          }
        },
        "60916b31dd50455f88ee950a910f8316": {
          "model_module": "@jupyter-widgets/controls",
          "model_name": "HTMLModel",
          "model_module_version": "1.5.0",
          "state": {
            "_dom_classes": [],
            "_model_module": "@jupyter-widgets/controls",
            "_model_module_version": "1.5.0",
            "_model_name": "HTMLModel",
            "_view_count": null,
            "_view_module": "@jupyter-widgets/controls",
            "_view_module_version": "1.5.0",
            "_view_name": "HTMLView",
            "description": "",
            "description_tooltip": null,
            "layout": "IPY_MODEL_ebb9f54ef6ad4bb1bc756657496f129f",
            "placeholder": "​",
            "style": "IPY_MODEL_e422ada8a9364affa8e0676afc7888af",
            "value": " 93.0/93.0 [00:00&lt;00:00, 5.44kB/s]"
          }
        },
        "c0bdecebb5734ff08d4f03a1a3e379f1": {
          "model_module": "@jupyter-widgets/base",
          "model_name": "LayoutModel",
          "model_module_version": "1.2.0",
          "state": {
            "_model_module": "@jupyter-widgets/base",
            "_model_module_version": "1.2.0",
            "_model_name": "LayoutModel",
            "_view_count": null,
            "_view_module": "@jupyter-widgets/base",
            "_view_module_version": "1.2.0",
            "_view_name": "LayoutView",
            "align_content": null,
            "align_items": null,
            "align_self": null,
            "border": null,
            "bottom": null,
            "display": null,
            "flex": null,
            "flex_flow": null,
            "grid_area": null,
            "grid_auto_columns": null,
            "grid_auto_flow": null,
            "grid_auto_rows": null,
            "grid_column": null,
            "grid_gap": null,
            "grid_row": null,
            "grid_template_areas": null,
            "grid_template_columns": null,
            "grid_template_rows": null,
            "height": null,
            "justify_content": null,
            "justify_items": null,
            "left": null,
            "margin": null,
            "max_height": null,
            "max_width": null,
            "min_height": null,
            "min_width": null,
            "object_fit": null,
            "object_position": null,
            "order": null,
            "overflow": null,
            "overflow_x": null,
            "overflow_y": null,
            "padding": null,
            "right": null,
            "top": null,
            "visibility": null,
            "width": null
          }
        },
        "4cd244a3e11d42ceaf259187092b79d4": {
          "model_module": "@jupyter-widgets/base",
          "model_name": "LayoutModel",
          "model_module_version": "1.2.0",
          "state": {
            "_model_module": "@jupyter-widgets/base",
            "_model_module_version": "1.2.0",
            "_model_name": "LayoutModel",
            "_view_count": null,
            "_view_module": "@jupyter-widgets/base",
            "_view_module_version": "1.2.0",
            "_view_name": "LayoutView",
            "align_content": null,
            "align_items": null,
            "align_self": null,
            "border": null,
            "bottom": null,
            "display": null,
            "flex": null,
            "flex_flow": null,
            "grid_area": null,
            "grid_auto_columns": null,
            "grid_auto_flow": null,
            "grid_auto_rows": null,
            "grid_column": null,
            "grid_gap": null,
            "grid_row": null,
            "grid_template_areas": null,
            "grid_template_columns": null,
            "grid_template_rows": null,
            "height": null,
            "justify_content": null,
            "justify_items": null,
            "left": null,
            "margin": null,
            "max_height": null,
            "max_width": null,
            "min_height": null,
            "min_width": null,
            "object_fit": null,
            "object_position": null,
            "order": null,
            "overflow": null,
            "overflow_x": null,
            "overflow_y": null,
            "padding": null,
            "right": null,
            "top": null,
            "visibility": null,
            "width": null
          }
        },
        "7710dc429a1449d9843c8216b85ee9be": {
          "model_module": "@jupyter-widgets/controls",
          "model_name": "DescriptionStyleModel",
          "model_module_version": "1.5.0",
          "state": {
            "_model_module": "@jupyter-widgets/controls",
            "_model_module_version": "1.5.0",
            "_model_name": "DescriptionStyleModel",
            "_view_count": null,
            "_view_module": "@jupyter-widgets/base",
            "_view_module_version": "1.2.0",
            "_view_name": "StyleView",
            "description_width": ""
          }
        },
        "fb6567fc1e454565ad6b04e8b42251d4": {
          "model_module": "@jupyter-widgets/base",
          "model_name": "LayoutModel",
          "model_module_version": "1.2.0",
          "state": {
            "_model_module": "@jupyter-widgets/base",
            "_model_module_version": "1.2.0",
            "_model_name": "LayoutModel",
            "_view_count": null,
            "_view_module": "@jupyter-widgets/base",
            "_view_module_version": "1.2.0",
            "_view_name": "LayoutView",
            "align_content": null,
            "align_items": null,
            "align_self": null,
            "border": null,
            "bottom": null,
            "display": null,
            "flex": null,
            "flex_flow": null,
            "grid_area": null,
            "grid_auto_columns": null,
            "grid_auto_flow": null,
            "grid_auto_rows": null,
            "grid_column": null,
            "grid_gap": null,
            "grid_row": null,
            "grid_template_areas": null,
            "grid_template_columns": null,
            "grid_template_rows": null,
            "height": null,
            "justify_content": null,
            "justify_items": null,
            "left": null,
            "margin": null,
            "max_height": null,
            "max_width": null,
            "min_height": null,
            "min_width": null,
            "object_fit": null,
            "object_position": null,
            "order": null,
            "overflow": null,
            "overflow_x": null,
            "overflow_y": null,
            "padding": null,
            "right": null,
            "top": null,
            "visibility": null,
            "width": null
          }
        },
        "41ac14de9364494cba8e1d8e306b1015": {
          "model_module": "@jupyter-widgets/controls",
          "model_name": "ProgressStyleModel",
          "model_module_version": "1.5.0",
          "state": {
            "_model_module": "@jupyter-widgets/controls",
            "_model_module_version": "1.5.0",
            "_model_name": "ProgressStyleModel",
            "_view_count": null,
            "_view_module": "@jupyter-widgets/base",
            "_view_module_version": "1.2.0",
            "_view_name": "StyleView",
            "bar_color": null,
            "description_width": ""
          }
        },
        "ebb9f54ef6ad4bb1bc756657496f129f": {
          "model_module": "@jupyter-widgets/base",
          "model_name": "LayoutModel",
          "model_module_version": "1.2.0",
          "state": {
            "_model_module": "@jupyter-widgets/base",
            "_model_module_version": "1.2.0",
            "_model_name": "LayoutModel",
            "_view_count": null,
            "_view_module": "@jupyter-widgets/base",
            "_view_module_version": "1.2.0",
            "_view_name": "LayoutView",
            "align_content": null,
            "align_items": null,
            "align_self": null,
            "border": null,
            "bottom": null,
            "display": null,
            "flex": null,
            "flex_flow": null,
            "grid_area": null,
            "grid_auto_columns": null,
            "grid_auto_flow": null,
            "grid_auto_rows": null,
            "grid_column": null,
            "grid_gap": null,
            "grid_row": null,
            "grid_template_areas": null,
            "grid_template_columns": null,
            "grid_template_rows": null,
            "height": null,
            "justify_content": null,
            "justify_items": null,
            "left": null,
            "margin": null,
            "max_height": null,
            "max_width": null,
            "min_height": null,
            "min_width": null,
            "object_fit": null,
            "object_position": null,
            "order": null,
            "overflow": null,
            "overflow_x": null,
            "overflow_y": null,
            "padding": null,
            "right": null,
            "top": null,
            "visibility": null,
            "width": null
          }
        },
        "e422ada8a9364affa8e0676afc7888af": {
          "model_module": "@jupyter-widgets/controls",
          "model_name": "DescriptionStyleModel",
          "model_module_version": "1.5.0",
          "state": {
            "_model_module": "@jupyter-widgets/controls",
            "_model_module_version": "1.5.0",
            "_model_name": "DescriptionStyleModel",
            "_view_count": null,
            "_view_module": "@jupyter-widgets/base",
            "_view_module_version": "1.2.0",
            "_view_name": "StyleView",
            "description_width": ""
          }
        },
        "aba44e8f6a9b4632a5c0fe1a2c6ae4ad": {
          "model_module": "@jupyter-widgets/controls",
          "model_name": "HBoxModel",
          "model_module_version": "1.5.0",
          "state": {
            "_dom_classes": [],
            "_model_module": "@jupyter-widgets/controls",
            "_model_module_version": "1.5.0",
            "_model_name": "HBoxModel",
            "_view_count": null,
            "_view_module": "@jupyter-widgets/controls",
            "_view_module_version": "1.5.0",
            "_view_name": "HBoxView",
            "box_style": "",
            "children": [
              "IPY_MODEL_3593ccd5f6574f43a47009b1d1a90652",
              "IPY_MODEL_9313f3732cd5465a82a68b57e5bee59e",
              "IPY_MODEL_71f74df89fe84374a64452dc8db40cc8"
            ],
            "layout": "IPY_MODEL_94a5dae3544f482fb5b4077a6b1c29f3"
          }
        },
        "3593ccd5f6574f43a47009b1d1a90652": {
          "model_module": "@jupyter-widgets/controls",
          "model_name": "HTMLModel",
          "model_module_version": "1.5.0",
          "state": {
            "_dom_classes": [],
            "_model_module": "@jupyter-widgets/controls",
            "_model_module_version": "1.5.0",
            "_model_name": "HTMLModel",
            "_view_count": null,
            "_view_module": "@jupyter-widgets/controls",
            "_view_module_version": "1.5.0",
            "_view_name": "HTMLView",
            "description": "",
            "description_tooltip": null,
            "layout": "IPY_MODEL_4714e3c457744ab2ab3bf9529e3d275c",
            "placeholder": "​",
            "style": "IPY_MODEL_811ffb1bec32415daf07c6c6825600ec",
            "value": "special_tokens_map.json: 100%"
          }
        },
        "9313f3732cd5465a82a68b57e5bee59e": {
          "model_module": "@jupyter-widgets/controls",
          "model_name": "FloatProgressModel",
          "model_module_version": "1.5.0",
          "state": {
            "_dom_classes": [],
            "_model_module": "@jupyter-widgets/controls",
            "_model_module_version": "1.5.0",
            "_model_name": "FloatProgressModel",
            "_view_count": null,
            "_view_module": "@jupyter-widgets/controls",
            "_view_module_version": "1.5.0",
            "_view_name": "ProgressView",
            "bar_style": "success",
            "description": "",
            "description_tooltip": null,
            "layout": "IPY_MODEL_9a90ff46609e4a82804013d058f4a9e0",
            "max": 125,
            "min": 0,
            "orientation": "horizontal",
            "style": "IPY_MODEL_976727143ead4e2592412dc1e41a967c",
            "value": 125
          }
        },
        "71f74df89fe84374a64452dc8db40cc8": {
          "model_module": "@jupyter-widgets/controls",
          "model_name": "HTMLModel",
          "model_module_version": "1.5.0",
          "state": {
            "_dom_classes": [],
            "_model_module": "@jupyter-widgets/controls",
            "_model_module_version": "1.5.0",
            "_model_name": "HTMLModel",
            "_view_count": null,
            "_view_module": "@jupyter-widgets/controls",
            "_view_module_version": "1.5.0",
            "_view_name": "HTMLView",
            "description": "",
            "description_tooltip": null,
            "layout": "IPY_MODEL_1df1fbfade1b41bea4276599a6c3b6d0",
            "placeholder": "​",
            "style": "IPY_MODEL_a503a36c8581425ea99bb68dbf583881",
            "value": " 125/125 [00:00&lt;00:00, 11.3kB/s]"
          }
        },
        "94a5dae3544f482fb5b4077a6b1c29f3": {
          "model_module": "@jupyter-widgets/base",
          "model_name": "LayoutModel",
          "model_module_version": "1.2.0",
          "state": {
            "_model_module": "@jupyter-widgets/base",
            "_model_module_version": "1.2.0",
            "_model_name": "LayoutModel",
            "_view_count": null,
            "_view_module": "@jupyter-widgets/base",
            "_view_module_version": "1.2.0",
            "_view_name": "LayoutView",
            "align_content": null,
            "align_items": null,
            "align_self": null,
            "border": null,
            "bottom": null,
            "display": null,
            "flex": null,
            "flex_flow": null,
            "grid_area": null,
            "grid_auto_columns": null,
            "grid_auto_flow": null,
            "grid_auto_rows": null,
            "grid_column": null,
            "grid_gap": null,
            "grid_row": null,
            "grid_template_areas": null,
            "grid_template_columns": null,
            "grid_template_rows": null,
            "height": null,
            "justify_content": null,
            "justify_items": null,
            "left": null,
            "margin": null,
            "max_height": null,
            "max_width": null,
            "min_height": null,
            "min_width": null,
            "object_fit": null,
            "object_position": null,
            "order": null,
            "overflow": null,
            "overflow_x": null,
            "overflow_y": null,
            "padding": null,
            "right": null,
            "top": null,
            "visibility": null,
            "width": null
          }
        },
        "4714e3c457744ab2ab3bf9529e3d275c": {
          "model_module": "@jupyter-widgets/base",
          "model_name": "LayoutModel",
          "model_module_version": "1.2.0",
          "state": {
            "_model_module": "@jupyter-widgets/base",
            "_model_module_version": "1.2.0",
            "_model_name": "LayoutModel",
            "_view_count": null,
            "_view_module": "@jupyter-widgets/base",
            "_view_module_version": "1.2.0",
            "_view_name": "LayoutView",
            "align_content": null,
            "align_items": null,
            "align_self": null,
            "border": null,
            "bottom": null,
            "display": null,
            "flex": null,
            "flex_flow": null,
            "grid_area": null,
            "grid_auto_columns": null,
            "grid_auto_flow": null,
            "grid_auto_rows": null,
            "grid_column": null,
            "grid_gap": null,
            "grid_row": null,
            "grid_template_areas": null,
            "grid_template_columns": null,
            "grid_template_rows": null,
            "height": null,
            "justify_content": null,
            "justify_items": null,
            "left": null,
            "margin": null,
            "max_height": null,
            "max_width": null,
            "min_height": null,
            "min_width": null,
            "object_fit": null,
            "object_position": null,
            "order": null,
            "overflow": null,
            "overflow_x": null,
            "overflow_y": null,
            "padding": null,
            "right": null,
            "top": null,
            "visibility": null,
            "width": null
          }
        },
        "811ffb1bec32415daf07c6c6825600ec": {
          "model_module": "@jupyter-widgets/controls",
          "model_name": "DescriptionStyleModel",
          "model_module_version": "1.5.0",
          "state": {
            "_model_module": "@jupyter-widgets/controls",
            "_model_module_version": "1.5.0",
            "_model_name": "DescriptionStyleModel",
            "_view_count": null,
            "_view_module": "@jupyter-widgets/base",
            "_view_module_version": "1.2.0",
            "_view_name": "StyleView",
            "description_width": ""
          }
        },
        "9a90ff46609e4a82804013d058f4a9e0": {
          "model_module": "@jupyter-widgets/base",
          "model_name": "LayoutModel",
          "model_module_version": "1.2.0",
          "state": {
            "_model_module": "@jupyter-widgets/base",
            "_model_module_version": "1.2.0",
            "_model_name": "LayoutModel",
            "_view_count": null,
            "_view_module": "@jupyter-widgets/base",
            "_view_module_version": "1.2.0",
            "_view_name": "LayoutView",
            "align_content": null,
            "align_items": null,
            "align_self": null,
            "border": null,
            "bottom": null,
            "display": null,
            "flex": null,
            "flex_flow": null,
            "grid_area": null,
            "grid_auto_columns": null,
            "grid_auto_flow": null,
            "grid_auto_rows": null,
            "grid_column": null,
            "grid_gap": null,
            "grid_row": null,
            "grid_template_areas": null,
            "grid_template_columns": null,
            "grid_template_rows": null,
            "height": null,
            "justify_content": null,
            "justify_items": null,
            "left": null,
            "margin": null,
            "max_height": null,
            "max_width": null,
            "min_height": null,
            "min_width": null,
            "object_fit": null,
            "object_position": null,
            "order": null,
            "overflow": null,
            "overflow_x": null,
            "overflow_y": null,
            "padding": null,
            "right": null,
            "top": null,
            "visibility": null,
            "width": null
          }
        },
        "976727143ead4e2592412dc1e41a967c": {
          "model_module": "@jupyter-widgets/controls",
          "model_name": "ProgressStyleModel",
          "model_module_version": "1.5.0",
          "state": {
            "_model_module": "@jupyter-widgets/controls",
            "_model_module_version": "1.5.0",
            "_model_name": "ProgressStyleModel",
            "_view_count": null,
            "_view_module": "@jupyter-widgets/base",
            "_view_module_version": "1.2.0",
            "_view_name": "StyleView",
            "bar_color": null,
            "description_width": ""
          }
        },
        "1df1fbfade1b41bea4276599a6c3b6d0": {
          "model_module": "@jupyter-widgets/base",
          "model_name": "LayoutModel",
          "model_module_version": "1.2.0",
          "state": {
            "_model_module": "@jupyter-widgets/base",
            "_model_module_version": "1.2.0",
            "_model_name": "LayoutModel",
            "_view_count": null,
            "_view_module": "@jupyter-widgets/base",
            "_view_module_version": "1.2.0",
            "_view_name": "LayoutView",
            "align_content": null,
            "align_items": null,
            "align_self": null,
            "border": null,
            "bottom": null,
            "display": null,
            "flex": null,
            "flex_flow": null,
            "grid_area": null,
            "grid_auto_columns": null,
            "grid_auto_flow": null,
            "grid_auto_rows": null,
            "grid_column": null,
            "grid_gap": null,
            "grid_row": null,
            "grid_template_areas": null,
            "grid_template_columns": null,
            "grid_template_rows": null,
            "height": null,
            "justify_content": null,
            "justify_items": null,
            "left": null,
            "margin": null,
            "max_height": null,
            "max_width": null,
            "min_height": null,
            "min_width": null,
            "object_fit": null,
            "object_position": null,
            "order": null,
            "overflow": null,
            "overflow_x": null,
            "overflow_y": null,
            "padding": null,
            "right": null,
            "top": null,
            "visibility": null,
            "width": null
          }
        },
        "a503a36c8581425ea99bb68dbf583881": {
          "model_module": "@jupyter-widgets/controls",
          "model_name": "DescriptionStyleModel",
          "model_module_version": "1.5.0",
          "state": {
            "_model_module": "@jupyter-widgets/controls",
            "_model_module_version": "1.5.0",
            "_model_name": "DescriptionStyleModel",
            "_view_count": null,
            "_view_module": "@jupyter-widgets/base",
            "_view_module_version": "1.2.0",
            "_view_name": "StyleView",
            "description_width": ""
          }
        },
        "8e0886c73d904b2db4242ae261c2235b": {
          "model_module": "@jupyter-widgets/controls",
          "model_name": "HBoxModel",
          "model_module_version": "1.5.0",
          "state": {
            "_dom_classes": [],
            "_model_module": "@jupyter-widgets/controls",
            "_model_module_version": "1.5.0",
            "_model_name": "HBoxModel",
            "_view_count": null,
            "_view_module": "@jupyter-widgets/controls",
            "_view_module_version": "1.5.0",
            "_view_name": "HBoxView",
            "box_style": "",
            "children": [
              "IPY_MODEL_d1b0dc88e1974cd08bc54c88caaee50b",
              "IPY_MODEL_d03e7af549284cdab7e7cb876d3c6080",
              "IPY_MODEL_836eab99bf6647a68cd57917824ef16a"
            ],
            "layout": "IPY_MODEL_bc7ec6818bb34cc09f461271fc9007c8"
          }
        },
        "d1b0dc88e1974cd08bc54c88caaee50b": {
          "model_module": "@jupyter-widgets/controls",
          "model_name": "HTMLModel",
          "model_module_version": "1.5.0",
          "state": {
            "_dom_classes": [],
            "_model_module": "@jupyter-widgets/controls",
            "_model_module_version": "1.5.0",
            "_model_name": "HTMLModel",
            "_view_count": null,
            "_view_module": "@jupyter-widgets/controls",
            "_view_module_version": "1.5.0",
            "_view_name": "HTMLView",
            "description": "",
            "description_tooltip": null,
            "layout": "IPY_MODEL_95857378f9b14c4aa3f9d8e4e9536c9d",
            "placeholder": "​",
            "style": "IPY_MODEL_fe1652d974784c11bfca7cda16940899",
            "value": "config.json: 100%"
          }
        },
        "d03e7af549284cdab7e7cb876d3c6080": {
          "model_module": "@jupyter-widgets/controls",
          "model_name": "FloatProgressModel",
          "model_module_version": "1.5.0",
          "state": {
            "_dom_classes": [],
            "_model_module": "@jupyter-widgets/controls",
            "_model_module_version": "1.5.0",
            "_model_name": "FloatProgressModel",
            "_view_count": null,
            "_view_module": "@jupyter-widgets/controls",
            "_view_module_version": "1.5.0",
            "_view_name": "ProgressView",
            "bar_style": "success",
            "description": "",
            "description_tooltip": null,
            "layout": "IPY_MODEL_601e1fbaf44146f484a725beed537a05",
            "max": 775,
            "min": 0,
            "orientation": "horizontal",
            "style": "IPY_MODEL_0c7955226ae3408fa490d165746e80aa",
            "value": 775
          }
        },
        "836eab99bf6647a68cd57917824ef16a": {
          "model_module": "@jupyter-widgets/controls",
          "model_name": "HTMLModel",
          "model_module_version": "1.5.0",
          "state": {
            "_dom_classes": [],
            "_model_module": "@jupyter-widgets/controls",
            "_model_module_version": "1.5.0",
            "_model_name": "HTMLModel",
            "_view_count": null,
            "_view_module": "@jupyter-widgets/controls",
            "_view_module_version": "1.5.0",
            "_view_name": "HTMLView",
            "description": "",
            "description_tooltip": null,
            "layout": "IPY_MODEL_1ce7574276ae49edb523993e5fd3ee09",
            "placeholder": "​",
            "style": "IPY_MODEL_9876c395d7c249299843b8ff6549202d",
            "value": " 775/775 [00:00&lt;00:00, 77.2kB/s]"
          }
        },
        "bc7ec6818bb34cc09f461271fc9007c8": {
          "model_module": "@jupyter-widgets/base",
          "model_name": "LayoutModel",
          "model_module_version": "1.2.0",
          "state": {
            "_model_module": "@jupyter-widgets/base",
            "_model_module_version": "1.2.0",
            "_model_name": "LayoutModel",
            "_view_count": null,
            "_view_module": "@jupyter-widgets/base",
            "_view_module_version": "1.2.0",
            "_view_name": "LayoutView",
            "align_content": null,
            "align_items": null,
            "align_self": null,
            "border": null,
            "bottom": null,
            "display": null,
            "flex": null,
            "flex_flow": null,
            "grid_area": null,
            "grid_auto_columns": null,
            "grid_auto_flow": null,
            "grid_auto_rows": null,
            "grid_column": null,
            "grid_gap": null,
            "grid_row": null,
            "grid_template_areas": null,
            "grid_template_columns": null,
            "grid_template_rows": null,
            "height": null,
            "justify_content": null,
            "justify_items": null,
            "left": null,
            "margin": null,
            "max_height": null,
            "max_width": null,
            "min_height": null,
            "min_width": null,
            "object_fit": null,
            "object_position": null,
            "order": null,
            "overflow": null,
            "overflow_x": null,
            "overflow_y": null,
            "padding": null,
            "right": null,
            "top": null,
            "visibility": null,
            "width": null
          }
        },
        "95857378f9b14c4aa3f9d8e4e9536c9d": {
          "model_module": "@jupyter-widgets/base",
          "model_name": "LayoutModel",
          "model_module_version": "1.2.0",
          "state": {
            "_model_module": "@jupyter-widgets/base",
            "_model_module_version": "1.2.0",
            "_model_name": "LayoutModel",
            "_view_count": null,
            "_view_module": "@jupyter-widgets/base",
            "_view_module_version": "1.2.0",
            "_view_name": "LayoutView",
            "align_content": null,
            "align_items": null,
            "align_self": null,
            "border": null,
            "bottom": null,
            "display": null,
            "flex": null,
            "flex_flow": null,
            "grid_area": null,
            "grid_auto_columns": null,
            "grid_auto_flow": null,
            "grid_auto_rows": null,
            "grid_column": null,
            "grid_gap": null,
            "grid_row": null,
            "grid_template_areas": null,
            "grid_template_columns": null,
            "grid_template_rows": null,
            "height": null,
            "justify_content": null,
            "justify_items": null,
            "left": null,
            "margin": null,
            "max_height": null,
            "max_width": null,
            "min_height": null,
            "min_width": null,
            "object_fit": null,
            "object_position": null,
            "order": null,
            "overflow": null,
            "overflow_x": null,
            "overflow_y": null,
            "padding": null,
            "right": null,
            "top": null,
            "visibility": null,
            "width": null
          }
        },
        "fe1652d974784c11bfca7cda16940899": {
          "model_module": "@jupyter-widgets/controls",
          "model_name": "DescriptionStyleModel",
          "model_module_version": "1.5.0",
          "state": {
            "_model_module": "@jupyter-widgets/controls",
            "_model_module_version": "1.5.0",
            "_model_name": "DescriptionStyleModel",
            "_view_count": null,
            "_view_module": "@jupyter-widgets/base",
            "_view_module_version": "1.2.0",
            "_view_name": "StyleView",
            "description_width": ""
          }
        },
        "601e1fbaf44146f484a725beed537a05": {
          "model_module": "@jupyter-widgets/base",
          "model_name": "LayoutModel",
          "model_module_version": "1.2.0",
          "state": {
            "_model_module": "@jupyter-widgets/base",
            "_model_module_version": "1.2.0",
            "_model_name": "LayoutModel",
            "_view_count": null,
            "_view_module": "@jupyter-widgets/base",
            "_view_module_version": "1.2.0",
            "_view_name": "LayoutView",
            "align_content": null,
            "align_items": null,
            "align_self": null,
            "border": null,
            "bottom": null,
            "display": null,
            "flex": null,
            "flex_flow": null,
            "grid_area": null,
            "grid_auto_columns": null,
            "grid_auto_flow": null,
            "grid_auto_rows": null,
            "grid_column": null,
            "grid_gap": null,
            "grid_row": null,
            "grid_template_areas": null,
            "grid_template_columns": null,
            "grid_template_rows": null,
            "height": null,
            "justify_content": null,
            "justify_items": null,
            "left": null,
            "margin": null,
            "max_height": null,
            "max_width": null,
            "min_height": null,
            "min_width": null,
            "object_fit": null,
            "object_position": null,
            "order": null,
            "overflow": null,
            "overflow_x": null,
            "overflow_y": null,
            "padding": null,
            "right": null,
            "top": null,
            "visibility": null,
            "width": null
          }
        },
        "0c7955226ae3408fa490d165746e80aa": {
          "model_module": "@jupyter-widgets/controls",
          "model_name": "ProgressStyleModel",
          "model_module_version": "1.5.0",
          "state": {
            "_model_module": "@jupyter-widgets/controls",
            "_model_module_version": "1.5.0",
            "_model_name": "ProgressStyleModel",
            "_view_count": null,
            "_view_module": "@jupyter-widgets/base",
            "_view_module_version": "1.2.0",
            "_view_name": "StyleView",
            "bar_color": null,
            "description_width": ""
          }
        },
        "1ce7574276ae49edb523993e5fd3ee09": {
          "model_module": "@jupyter-widgets/base",
          "model_name": "LayoutModel",
          "model_module_version": "1.2.0",
          "state": {
            "_model_module": "@jupyter-widgets/base",
            "_model_module_version": "1.2.0",
            "_model_name": "LayoutModel",
            "_view_count": null,
            "_view_module": "@jupyter-widgets/base",
            "_view_module_version": "1.2.0",
            "_view_name": "LayoutView",
            "align_content": null,
            "align_items": null,
            "align_self": null,
            "border": null,
            "bottom": null,
            "display": null,
            "flex": null,
            "flex_flow": null,
            "grid_area": null,
            "grid_auto_columns": null,
            "grid_auto_flow": null,
            "grid_auto_rows": null,
            "grid_column": null,
            "grid_gap": null,
            "grid_row": null,
            "grid_template_areas": null,
            "grid_template_columns": null,
            "grid_template_rows": null,
            "height": null,
            "justify_content": null,
            "justify_items": null,
            "left": null,
            "margin": null,
            "max_height": null,
            "max_width": null,
            "min_height": null,
            "min_width": null,
            "object_fit": null,
            "object_position": null,
            "order": null,
            "overflow": null,
            "overflow_x": null,
            "overflow_y": null,
            "padding": null,
            "right": null,
            "top": null,
            "visibility": null,
            "width": null
          }
        },
        "9876c395d7c249299843b8ff6549202d": {
          "model_module": "@jupyter-widgets/controls",
          "model_name": "DescriptionStyleModel",
          "model_module_version": "1.5.0",
          "state": {
            "_model_module": "@jupyter-widgets/controls",
            "_model_module_version": "1.5.0",
            "_model_name": "DescriptionStyleModel",
            "_view_count": null,
            "_view_module": "@jupyter-widgets/base",
            "_view_module_version": "1.2.0",
            "_view_name": "StyleView",
            "description_width": ""
          }
        },
        "fec74835adf94210ac3b9c0e09bdb63d": {
          "model_module": "@jupyter-widgets/controls",
          "model_name": "HBoxModel",
          "model_module_version": "1.5.0",
          "state": {
            "_dom_classes": [],
            "_model_module": "@jupyter-widgets/controls",
            "_model_module_version": "1.5.0",
            "_model_name": "HBoxModel",
            "_view_count": null,
            "_view_module": "@jupyter-widgets/controls",
            "_view_module_version": "1.5.0",
            "_view_name": "HBoxView",
            "box_style": "",
            "children": [
              "IPY_MODEL_e65b1c352c28475aae9c68d8bd4260e0",
              "IPY_MODEL_e7647327d30e4843b7f97a26a9ad2eda",
              "IPY_MODEL_65557e18e98f4979b1c3bdaaa2f95b57"
            ],
            "layout": "IPY_MODEL_544a8f143a9e4cb3899452a5297f8545"
          }
        },
        "e65b1c352c28475aae9c68d8bd4260e0": {
          "model_module": "@jupyter-widgets/controls",
          "model_name": "HTMLModel",
          "model_module_version": "1.5.0",
          "state": {
            "_dom_classes": [],
            "_model_module": "@jupyter-widgets/controls",
            "_model_module_version": "1.5.0",
            "_model_name": "HTMLModel",
            "_view_count": null,
            "_view_module": "@jupyter-widgets/controls",
            "_view_module_version": "1.5.0",
            "_view_name": "HTMLView",
            "description": "",
            "description_tooltip": null,
            "layout": "IPY_MODEL_0886de919aac4d588f439b0826ffba09",
            "placeholder": "​",
            "style": "IPY_MODEL_48976e81f34340b3ba3280cff52d65ee",
            "value": "model.safetensors: 100%"
          }
        },
        "e7647327d30e4843b7f97a26a9ad2eda": {
          "model_module": "@jupyter-widgets/controls",
          "model_name": "FloatProgressModel",
          "model_module_version": "1.5.0",
          "state": {
            "_dom_classes": [],
            "_model_module": "@jupyter-widgets/controls",
            "_model_module_version": "1.5.0",
            "_model_name": "FloatProgressModel",
            "_view_count": null,
            "_view_module": "@jupyter-widgets/controls",
            "_view_module_version": "1.5.0",
            "_view_name": "ProgressView",
            "bar_style": "success",
            "description": "",
            "description_tooltip": null,
            "layout": "IPY_MODEL_ebb3f4121d0c48bd88b57ca0d511ff8f",
            "max": 31384292,
            "min": 0,
            "orientation": "horizontal",
            "style": "IPY_MODEL_53eacb3658cc47d4a2f7c4fa97fd8644",
            "value": 31384292
          }
        },
        "65557e18e98f4979b1c3bdaaa2f95b57": {
          "model_module": "@jupyter-widgets/controls",
          "model_name": "HTMLModel",
          "model_module_version": "1.5.0",
          "state": {
            "_dom_classes": [],
            "_model_module": "@jupyter-widgets/controls",
            "_model_module_version": "1.5.0",
            "_model_name": "HTMLModel",
            "_view_count": null,
            "_view_module": "@jupyter-widgets/controls",
            "_view_module_version": "1.5.0",
            "_view_name": "HTMLView",
            "description": "",
            "description_tooltip": null,
            "layout": "IPY_MODEL_845f1c2bcee14a34adce0ac6d629f202",
            "placeholder": "​",
            "style": "IPY_MODEL_65eee211ebce472e8f3528c1e75e68ba",
            "value": " 31.4M/31.4M [00:01&lt;00:00, 19.7MB/s]"
          }
        },
        "544a8f143a9e4cb3899452a5297f8545": {
          "model_module": "@jupyter-widgets/base",
          "model_name": "LayoutModel",
          "model_module_version": "1.2.0",
          "state": {
            "_model_module": "@jupyter-widgets/base",
            "_model_module_version": "1.2.0",
            "_model_name": "LayoutModel",
            "_view_count": null,
            "_view_module": "@jupyter-widgets/base",
            "_view_module_version": "1.2.0",
            "_view_name": "LayoutView",
            "align_content": null,
            "align_items": null,
            "align_self": null,
            "border": null,
            "bottom": null,
            "display": null,
            "flex": null,
            "flex_flow": null,
            "grid_area": null,
            "grid_auto_columns": null,
            "grid_auto_flow": null,
            "grid_auto_rows": null,
            "grid_column": null,
            "grid_gap": null,
            "grid_row": null,
            "grid_template_areas": null,
            "grid_template_columns": null,
            "grid_template_rows": null,
            "height": null,
            "justify_content": null,
            "justify_items": null,
            "left": null,
            "margin": null,
            "max_height": null,
            "max_width": null,
            "min_height": null,
            "min_width": null,
            "object_fit": null,
            "object_position": null,
            "order": null,
            "overflow": null,
            "overflow_x": null,
            "overflow_y": null,
            "padding": null,
            "right": null,
            "top": null,
            "visibility": null,
            "width": null
          }
        },
        "0886de919aac4d588f439b0826ffba09": {
          "model_module": "@jupyter-widgets/base",
          "model_name": "LayoutModel",
          "model_module_version": "1.2.0",
          "state": {
            "_model_module": "@jupyter-widgets/base",
            "_model_module_version": "1.2.0",
            "_model_name": "LayoutModel",
            "_view_count": null,
            "_view_module": "@jupyter-widgets/base",
            "_view_module_version": "1.2.0",
            "_view_name": "LayoutView",
            "align_content": null,
            "align_items": null,
            "align_self": null,
            "border": null,
            "bottom": null,
            "display": null,
            "flex": null,
            "flex_flow": null,
            "grid_area": null,
            "grid_auto_columns": null,
            "grid_auto_flow": null,
            "grid_auto_rows": null,
            "grid_column": null,
            "grid_gap": null,
            "grid_row": null,
            "grid_template_areas": null,
            "grid_template_columns": null,
            "grid_template_rows": null,
            "height": null,
            "justify_content": null,
            "justify_items": null,
            "left": null,
            "margin": null,
            "max_height": null,
            "max_width": null,
            "min_height": null,
            "min_width": null,
            "object_fit": null,
            "object_position": null,
            "order": null,
            "overflow": null,
            "overflow_x": null,
            "overflow_y": null,
            "padding": null,
            "right": null,
            "top": null,
            "visibility": null,
            "width": null
          }
        },
        "48976e81f34340b3ba3280cff52d65ee": {
          "model_module": "@jupyter-widgets/controls",
          "model_name": "DescriptionStyleModel",
          "model_module_version": "1.5.0",
          "state": {
            "_model_module": "@jupyter-widgets/controls",
            "_model_module_version": "1.5.0",
            "_model_name": "DescriptionStyleModel",
            "_view_count": null,
            "_view_module": "@jupyter-widgets/base",
            "_view_module_version": "1.2.0",
            "_view_name": "StyleView",
            "description_width": ""
          }
        },
        "ebb3f4121d0c48bd88b57ca0d511ff8f": {
          "model_module": "@jupyter-widgets/base",
          "model_name": "LayoutModel",
          "model_module_version": "1.2.0",
          "state": {
            "_model_module": "@jupyter-widgets/base",
            "_model_module_version": "1.2.0",
            "_model_name": "LayoutModel",
            "_view_count": null,
            "_view_module": "@jupyter-widgets/base",
            "_view_module_version": "1.2.0",
            "_view_name": "LayoutView",
            "align_content": null,
            "align_items": null,
            "align_self": null,
            "border": null,
            "bottom": null,
            "display": null,
            "flex": null,
            "flex_flow": null,
            "grid_area": null,
            "grid_auto_columns": null,
            "grid_auto_flow": null,
            "grid_auto_rows": null,
            "grid_column": null,
            "grid_gap": null,
            "grid_row": null,
            "grid_template_areas": null,
            "grid_template_columns": null,
            "grid_template_rows": null,
            "height": null,
            "justify_content": null,
            "justify_items": null,
            "left": null,
            "margin": null,
            "max_height": null,
            "max_width": null,
            "min_height": null,
            "min_width": null,
            "object_fit": null,
            "object_position": null,
            "order": null,
            "overflow": null,
            "overflow_x": null,
            "overflow_y": null,
            "padding": null,
            "right": null,
            "top": null,
            "visibility": null,
            "width": null
          }
        },
        "53eacb3658cc47d4a2f7c4fa97fd8644": {
          "model_module": "@jupyter-widgets/controls",
          "model_name": "ProgressStyleModel",
          "model_module_version": "1.5.0",
          "state": {
            "_model_module": "@jupyter-widgets/controls",
            "_model_module_version": "1.5.0",
            "_model_name": "ProgressStyleModel",
            "_view_count": null,
            "_view_module": "@jupyter-widgets/base",
            "_view_module_version": "1.2.0",
            "_view_name": "StyleView",
            "bar_color": null,
            "description_width": ""
          }
        },
        "845f1c2bcee14a34adce0ac6d629f202": {
          "model_module": "@jupyter-widgets/base",
          "model_name": "LayoutModel",
          "model_module_version": "1.2.0",
          "state": {
            "_model_module": "@jupyter-widgets/base",
            "_model_module_version": "1.2.0",
            "_model_name": "LayoutModel",
            "_view_count": null,
            "_view_module": "@jupyter-widgets/base",
            "_view_module_version": "1.2.0",
            "_view_name": "LayoutView",
            "align_content": null,
            "align_items": null,
            "align_self": null,
            "border": null,
            "bottom": null,
            "display": null,
            "flex": null,
            "flex_flow": null,
            "grid_area": null,
            "grid_auto_columns": null,
            "grid_auto_flow": null,
            "grid_auto_rows": null,
            "grid_column": null,
            "grid_gap": null,
            "grid_row": null,
            "grid_template_areas": null,
            "grid_template_columns": null,
            "grid_template_rows": null,
            "height": null,
            "justify_content": null,
            "justify_items": null,
            "left": null,
            "margin": null,
            "max_height": null,
            "max_width": null,
            "min_height": null,
            "min_width": null,
            "object_fit": null,
            "object_position": null,
            "order": null,
            "overflow": null,
            "overflow_x": null,
            "overflow_y": null,
            "padding": null,
            "right": null,
            "top": null,
            "visibility": null,
            "width": null
          }
        },
        "65eee211ebce472e8f3528c1e75e68ba": {
          "model_module": "@jupyter-widgets/controls",
          "model_name": "DescriptionStyleModel",
          "model_module_version": "1.5.0",
          "state": {
            "_model_module": "@jupyter-widgets/controls",
            "_model_module_version": "1.5.0",
            "_model_name": "DescriptionStyleModel",
            "_view_count": null,
            "_view_module": "@jupyter-widgets/base",
            "_view_module_version": "1.2.0",
            "_view_name": "StyleView",
            "description_width": ""
          }
        }
      }
    },
    "accelerator": "GPU"
  },
  "cells": [
    {
      "cell_type": "markdown",
      "source": [
        "# Package installation"
      ],
      "metadata": {
        "id": "vkQRSQc3m7o7"
      }
    },
    {
      "cell_type": "code",
      "source": [
        "!pip install biopython"
      ],
      "metadata": {
        "colab": {
          "base_uri": "https://localhost:8080/"
        },
        "id": "5Wt0r8aXxtEJ",
        "outputId": "b60bd1db-5f05-4af8-8643-1aef733998c6"
      },
      "execution_count": null,
      "outputs": [
        {
          "output_type": "stream",
          "name": "stdout",
          "text": [
            "Collecting biopython\n",
            "  Downloading biopython-1.85-cp311-cp311-manylinux_2_17_x86_64.manylinux2014_x86_64.whl.metadata (13 kB)\n",
            "Requirement already satisfied: numpy in /usr/local/lib/python3.11/dist-packages (from biopython) (2.0.2)\n",
            "Downloading biopython-1.85-cp311-cp311-manylinux_2_17_x86_64.manylinux2014_x86_64.whl (3.3 MB)\n",
            "\u001b[2K   \u001b[90m━━━━━━━━━━━━━━━━━━━━━━━━━━━━━━━━━━━━━━━━\u001b[0m \u001b[32m3.3/3.3 MB\u001b[0m \u001b[31m30.1 MB/s\u001b[0m eta \u001b[36m0:00:00\u001b[0m\n",
            "\u001b[?25hInstalling collected packages: biopython\n",
            "Successfully installed biopython-1.85\n"
          ]
        }
      ]
    },
    {
      "cell_type": "code",
      "source": [
        "import random\n",
        "import gzip\n",
        "import torch\n",
        "import os\n",
        "import torch.nn as nn\n",
        "import torch.optim as optim\n",
        "import matplotlib.pyplot as plt\n",
        "from Bio import SeqIO\n",
        "from torch.utils.data import TensorDataset, DataLoader\n",
        "from sklearn.metrics import confusion_matrix, ConfusionMatrixDisplay\n",
        "\n",
        "\n",
        "from sklearn.model_selection import train_test_split\n",
        "from google.colab import drive\n",
        "from torch.nn.utils.rnn import pad_sequence\n",
        "drive.mount('/content/gdrive')\n",
        "\n",
        "rootPath = \"/content/gdrive/MyDrive/Colab_Notebooks_Xinyu/Bio\"\n"
      ],
      "metadata": {
        "colab": {
          "base_uri": "https://localhost:8080/"
        },
        "id": "-AB8avkNk3ua",
        "outputId": "a7a0a107-1aa7-4739-e3de-3165a3d8bc57"
      },
      "execution_count": null,
      "outputs": [
        {
          "output_type": "stream",
          "name": "stdout",
          "text": [
            "Mounted at /content/gdrive\n"
          ]
        }
      ]
    },
    {
      "cell_type": "markdown",
      "source": [
        "# Dataset processing"
      ],
      "metadata": {
        "id": "Pf5_GjMEm3Fm"
      }
    },
    {
      "cell_type": "code",
      "source": [],
      "metadata": {
        "id": "O7sQpgk3Airs"
      },
      "execution_count": null,
      "outputs": []
    },
    {
      "cell_type": "code",
      "source": [
        "from sklearn.model_selection import train_test_split\n",
        "from collections import Counter\n",
        "\n",
        "# Balancing the total number of each label\n",
        "def load_fasta_gz(file_path, label):\n",
        "    with gzip.open(file_path, \"rt\") as handle:\n",
        "        return [(str(record.seq), label) for record in SeqIO.parse(handle, \"fasta\")]\n",
        "\n",
        "def load_and_balance(file_path, label, max_samples):\n",
        "    data = load_fasta_gz(file_path, label)\n",
        "    random.shuffle(data)\n",
        "    return data[:max_samples]\n",
        "\n",
        "paths_labels = [\n",
        "    (rootPath+\"/DNAbindingprotein.fasta.gz\", 0),\n",
        "    (rootPath+\"/Structuralprotein.fasta.gz\", 1),\n",
        "    (rootPath+\"/Receptor.fasta.gz\", 2),\n",
        "    (rootPath+\"/Transporter.fasta.gz\", 3),\n",
        "    (rootPath+\"/Enzyme.fasta.gz\", 4),\n",
        "]\n",
        "\n",
        "all_raw = [(load_fasta_gz(p, l), l) for p, l in paths_labels]\n",
        "min_len = min(len(group[0]) for group in all_raw)\n",
        "\n",
        "balanced_data = []\n",
        "for file_path, label in paths_labels:\n",
        "    balanced_data += load_and_balance(file_path, label, min_len)\n",
        "\n",
        "\n",
        "\n",
        "# Step 2: shuffle\n",
        "random.shuffle(balanced_data)\n",
        "sequences, labels = zip(*balanced_data)\n",
        "\n",
        "# train : validation : test = 8:1:1\n",
        "X_temp, X_test, y_temp, y_test = train_test_split(\n",
        "    sequences, labels, test_size=0.1, random_state=42, stratify=labels\n",
        ")\n",
        "\n",
        "X_train, X_valid, y_train, y_valid = train_test_split(\n",
        "    X_temp, y_temp, test_size=0.1111, random_state=42, stratify=y_temp\n",
        ")\n",
        "\n",
        "# Check\n",
        "print(\"Each class sample count after balancing:\", min_len)\n",
        "print(\"Train:\", Counter(y_train))\n",
        "print(\"Valid:\", Counter(y_valid))\n",
        "print(\"Test: \", Counter(y_test))\n"
      ],
      "metadata": {
        "colab": {
          "base_uri": "https://localhost:8080/"
        },
        "id": "JxzDZzFFA5vq",
        "outputId": "6d5962aa-c704-4f4b-d5cc-21b88e2508e3"
      },
      "execution_count": null,
      "outputs": [
        {
          "output_type": "stream",
          "name": "stdout",
          "text": [
            "Each class sample count after balancing: 500\n",
            "Train: Counter({3: 400, 1: 400, 2: 400, 0: 400, 4: 400})\n",
            "Valid: Counter({2: 50, 3: 50, 4: 50, 1: 50, 0: 50})\n",
            "Test:  Counter({4: 50, 2: 50, 3: 50, 0: 50, 1: 50})\n"
          ]
        }
      ]
    },
    {
      "cell_type": "code",
      "source": [
        "amino_acids = 'ACDEFGHIKLMNPQRSTVWY'\n",
        "aa_to_idx = {aa: i+1 for i, aa in enumerate(amino_acids)}  # 0 for padding\n",
        "\n",
        "def encode_sequence(seq):\n",
        "    return torch.tensor([aa_to_idx.get(aa, 0) for aa in seq], dtype=torch.long)\n",
        "\n",
        "def prepare_dataset(X, y):\n",
        "    X_enc = [encode_sequence(seq) for seq in X]\n",
        "    X_pad = pad_sequence(X_enc, batch_first=True)  # shape: (batch, max_len)\n",
        "    y_tensor = torch.tensor(y, dtype=torch.long)\n",
        "    return X_pad, y_tensor\n"
      ],
      "metadata": {
        "id": "Lv-prdjqoMo0"
      },
      "execution_count": null,
      "outputs": []
    },
    {
      "cell_type": "code",
      "source": [
        "\n",
        "\n",
        "X_train_pad, y_train_tensor = prepare_dataset(X_train, y_train)\n",
        "X_valid_pad, y_valid_tensor = prepare_dataset(X_valid, y_valid)\n",
        "\n",
        "train_loader = DataLoader(TensorDataset(X_train_pad, y_train_tensor), batch_size=32, shuffle=True)\n",
        "valid_loader = DataLoader(TensorDataset(X_valid_pad, y_valid_tensor), batch_size=32)\n"
      ],
      "metadata": {
        "id": "nfqii8SAAeOk"
      },
      "execution_count": null,
      "outputs": []
    },
    {
      "cell_type": "markdown",
      "source": [
        "# RNN Model"
      ],
      "metadata": {
        "id": "rfadhkvLxE0F"
      }
    },
    {
      "cell_type": "code",
      "source": [
        "import torch\n",
        "import torch.nn as nn\n",
        "def count_parameters(model):\n",
        "    return sum(p.numel() for p in model.parameters() if p.requires_grad)\n",
        "\n",
        "class ProteinRNN(nn.Module):\n",
        "    def __init__(self, num_classes=5, embedding_dim=32, hidden_dim=64, dropout=0.3):\n",
        "        super().__init__()\n",
        "        self.embedding = nn.Embedding(num_embeddings=21, embedding_dim=embedding_dim, padding_idx=0)\n",
        "\n",
        "        self.rnn = nn.LSTM(\n",
        "            input_size=embedding_dim,\n",
        "            hidden_size=hidden_dim,\n",
        "            num_layers=1,\n",
        "            batch_first=True,\n",
        "            bidirectional=True,\n",
        "            dropout=dropout\n",
        "        )\n",
        "\n",
        "        self.dropout = nn.Dropout(dropout)\n",
        "        self.fc1 = nn.Linear(hidden_dim * 2, 32)\n",
        "        self.fc2 = nn.Linear(32, num_classes)\n",
        "\n",
        "    def forward(self, x):\n",
        "        x = self.embedding(x)\n",
        "        output, _ = self.rnn(x)\n",
        "        h_final = torch.mean(output, dim=1)\n",
        "        x = self.dropout(h_final)\n",
        "        x = torch.relu(self.fc1(x))\n",
        "        return self.fc2(x)\n",
        "\n",
        "\n",
        "\n",
        "\n",
        "model = ProteinRNN()\n",
        "print(f\"Total trainable parameters: {count_parameters(model):,}\")"
      ],
      "metadata": {
        "colab": {
          "base_uri": "https://localhost:8080/"
        },
        "id": "H03DUmp4nun8",
        "outputId": "be17088d-8490-4396-9d82-7caa29eb550e"
      },
      "execution_count": null,
      "outputs": [
        {
          "output_type": "stream",
          "name": "stdout",
          "text": [
            "Total trainable parameters: 55,141\n"
          ]
        },
        {
          "output_type": "stream",
          "name": "stderr",
          "text": [
            "/usr/local/lib/python3.11/dist-packages/torch/nn/modules/rnn.py:123: UserWarning: dropout option adds dropout after all but last recurrent layer, so non-zero dropout expects num_layers greater than 1, but got dropout=0.3 and num_layers=1\n",
            "  warnings.warn(\n"
          ]
        }
      ]
    },
    {
      "cell_type": "code",
      "source": [
        "import torch\n",
        "\n",
        "\n",
        "if torch.cuda.is_available():\n",
        "    print(\"CUDA is available.\")\n",
        "    print(f\"GPU Name: {torch.cuda.get_device_name(0)}\")\n",
        "    print(f\"Total GPU memory: {torch.cuda.get_device_properties(0).total_memory / 1e9:.2f} GB\")\n",
        "else:\n",
        "    print(\"CUDA is not available. Running on CPU.\")\n",
        "\n",
        "device = torch.device(\"cuda\" if torch.cuda.is_available() else \"cpu\")\n",
        "print(\"Using device:\", device)\n",
        "\n"
      ],
      "metadata": {
        "colab": {
          "base_uri": "https://localhost:8080/"
        },
        "id": "lg_ZNMf67jsb",
        "outputId": "fa413017-80f2-4a04-a0db-6af387088715"
      },
      "execution_count": null,
      "outputs": [
        {
          "output_type": "stream",
          "name": "stdout",
          "text": [
            "❌ CUDA is not available. Running on CPU.\n",
            "Using device: cpu\n"
          ]
        }
      ]
    },
    {
      "cell_type": "code",
      "source": [
        "import torch, gc\n",
        "\n",
        "gc.collect()\n",
        "torch.cuda.empty_cache()\n"
      ],
      "metadata": {
        "id": "2AQgy3IstqW2"
      },
      "execution_count": null,
      "outputs": []
    },
    {
      "cell_type": "code",
      "source": [
        "\n",
        "\n",
        "X_train_pad, y_train_tensor = prepare_dataset(X_train, y_train)\n",
        "X_valid_pad, y_valid_tensor = prepare_dataset(X_valid, y_valid)\n",
        "\n",
        "train_loader = DataLoader(TensorDataset(X_train_pad, y_train_tensor), batch_size=32, shuffle=True)\n",
        "valid_loader = DataLoader(TensorDataset(X_valid_pad, y_valid_tensor), batch_size=32)\n",
        "\n",
        "model = ProteinRNN().to(device)\n",
        "criterion = nn.CrossEntropyLoss()\n",
        "optimizer = optim.Adam(model.parameters(), lr=1e-3)\n",
        "\n",
        "\n",
        "\n",
        "def evaluate(model, dataloader):\n",
        "    model.eval()\n",
        "    correct = total = 0\n",
        "    with torch.no_grad():\n",
        "        for X_batch, y_batch in dataloader:\n",
        "            X_batch = X_batch.to(device)\n",
        "            y_batch = y_batch.to(device)\n",
        "            preds = model(X_batch).argmax(dim=1)\n",
        "            correct += (preds == y_batch).sum().item()\n",
        "            total += y_batch.size(0)\n",
        "    return correct / total\n",
        "\n",
        "train_accuracies = []\n",
        "valid_accuracies = []\n",
        "\n",
        "best_val_acc = 0.0\n",
        "patience = 5\n",
        "wait = 0\n",
        "save_path = os.path.join(rootPath, \"rnn_best_model.pt\")\n",
        "\n",
        "for epoch in range(50):\n",
        "    # ---------- Training ----------\n",
        "    model.train()\n",
        "    correct = total = 0\n",
        "    for X_batch, y_batch in train_loader:\n",
        "        X_batch = X_batch.to(device)\n",
        "        y_batch = y_batch.to(device)\n",
        "        optimizer.zero_grad()\n",
        "        outputs = model(X_batch)\n",
        "        loss = criterion(outputs, y_batch)\n",
        "        loss.backward()\n",
        "        optimizer.step()\n",
        "\n",
        "        # Accuracy\n",
        "        preds = outputs.argmax(dim=1)\n",
        "        correct += (preds == y_batch).sum().item()\n",
        "        total += y_batch.size(0)\n",
        "    train_acc = correct / total\n",
        "    train_accuracies.append(train_acc)\n",
        "\n",
        "    # ---------- Validation ----------\n",
        "    val_acc = evaluate(model, valid_loader)\n",
        "    valid_accuracies.append(val_acc)\n",
        "\n",
        "    print(f\"Epoch {epoch+1} | Train Acc: {train_acc:.4f} | Valid Acc: {val_acc:.4f}\")\n",
        "\n",
        "    # ---------- Early Stopping ----------\n",
        "    if val_acc > best_val_acc:\n",
        "        best_val_acc = val_acc\n",
        "        torch.save(model.state_dict(), save_path)\n",
        "        wait = 0\n",
        "        print(\" Model improved and saved.\")\n",
        "    else:\n",
        "        wait += 1\n",
        "        if wait >= patience:\n",
        "            print(\"Early stopping triggered.\")\n",
        "            break\n",
        "\n"
      ],
      "metadata": {
        "colab": {
          "base_uri": "https://localhost:8080/"
        },
        "id": "OD4ZJs8JxSB0",
        "outputId": "c2f932ef-dfb7-44fc-bc44-0994b5f8f254"
      },
      "execution_count": null,
      "outputs": [
        {
          "output_type": "stream",
          "name": "stdout",
          "text": [
            "Epoch 1 | Train Acc: 0.2115 | Valid Acc: 0.2120\n",
            " Model improved and saved.\n",
            "Epoch 2 | Train Acc: 0.2770 | Valid Acc: 0.2760\n",
            " Model improved and saved.\n",
            "Epoch 3 | Train Acc: 0.3435 | Valid Acc: 0.3400\n",
            " Model improved and saved.\n",
            "Epoch 4 | Train Acc: 0.3140 | Valid Acc: 0.3240\n",
            "Epoch 5 | Train Acc: 0.3450 | Valid Acc: 0.3440\n",
            " Model improved and saved.\n",
            "Epoch 6 | Train Acc: 0.3390 | Valid Acc: 0.2880\n",
            "Epoch 7 | Train Acc: 0.3765 | Valid Acc: 0.3720\n",
            " Model improved and saved.\n",
            "Epoch 8 | Train Acc: 0.3890 | Valid Acc: 0.3520\n",
            "Epoch 9 | Train Acc: 0.3990 | Valid Acc: 0.3640\n",
            "Epoch 10 | Train Acc: 0.3820 | Valid Acc: 0.4480\n",
            " Model improved and saved.\n",
            "Epoch 11 | Train Acc: 0.4230 | Valid Acc: 0.3840\n",
            "Epoch 12 | Train Acc: 0.4150 | Valid Acc: 0.4320\n",
            "Epoch 13 | Train Acc: 0.4245 | Valid Acc: 0.4320\n",
            "Epoch 14 | Train Acc: 0.4335 | Valid Acc: 0.4360\n",
            "Epoch 15 | Train Acc: 0.4505 | Valid Acc: 0.4800\n",
            " Model improved and saved.\n",
            "Epoch 16 | Train Acc: 0.4500 | Valid Acc: 0.4360\n",
            "Epoch 17 | Train Acc: 0.4705 | Valid Acc: 0.4600\n",
            "Epoch 18 | Train Acc: 0.4650 | Valid Acc: 0.5120\n",
            " Model improved and saved.\n",
            "Epoch 19 | Train Acc: 0.4890 | Valid Acc: 0.4760\n",
            "Epoch 20 | Train Acc: 0.4960 | Valid Acc: 0.4600\n",
            "Epoch 21 | Train Acc: 0.5200 | Valid Acc: 0.5160\n",
            " Model improved and saved.\n",
            "Epoch 22 | Train Acc: 0.5230 | Valid Acc: 0.5360\n",
            " Model improved and saved.\n",
            "Epoch 23 | Train Acc: 0.5375 | Valid Acc: 0.5120\n",
            "Epoch 24 | Train Acc: 0.5645 | Valid Acc: 0.5040\n",
            "Epoch 25 | Train Acc: 0.5720 | Valid Acc: 0.5720\n",
            " Model improved and saved.\n",
            "Epoch 26 | Train Acc: 0.5910 | Valid Acc: 0.5640\n",
            "Epoch 27 | Train Acc: 0.5850 | Valid Acc: 0.5800\n",
            " Model improved and saved.\n",
            "Epoch 28 | Train Acc: 0.5970 | Valid Acc: 0.5840\n",
            " Model improved and saved.\n",
            "Epoch 29 | Train Acc: 0.6170 | Valid Acc: 0.5760\n",
            "Epoch 30 | Train Acc: 0.6210 | Valid Acc: 0.6440\n",
            " Model improved and saved.\n",
            "Epoch 31 | Train Acc: 0.6395 | Valid Acc: 0.6160\n",
            "Epoch 32 | Train Acc: 0.6500 | Valid Acc: 0.5920\n",
            "Epoch 33 | Train Acc: 0.6525 | Valid Acc: 0.6000\n",
            "Epoch 34 | Train Acc: 0.6515 | Valid Acc: 0.6320\n",
            "Epoch 35 | Train Acc: 0.6615 | Valid Acc: 0.6400\n",
            "Early stopping triggered.\n"
          ]
        }
      ]
    },
    {
      "cell_type": "code",
      "source": [
        "def plot_tsne_projection(X_feat, y_labels, class_names, save_dir, prefix=\"model\"):\n",
        "    \"\"\"\n",
        "    t-SNE visualization。\n",
        "\n",
        "    parameters：\n",
        "        X_feat (np.ndarray)        : feature vector (N, D)\n",
        "        y_labels (list[int])       : labels\n",
        "        class_names (list[str])    : class name（Shown on figure）\n",
        "        save_dir (str)             : Saving path\n",
        "        prefix (str)               : prefix to distinguish，such as 'knn'、'svm'\n",
        "    \"\"\"\n",
        "    from sklearn.manifold import TSNE\n",
        "    import matplotlib.pyplot as plt\n",
        "    import seaborn as sns\n",
        "    import os\n",
        "\n",
        "    os.makedirs(save_dir, exist_ok=True)\n",
        "    save_path = os.path.join(save_dir, f\"{prefix}_tsne_plot.png\")\n",
        "\n",
        "    # runing t-SNE\n",
        "    tsne = TSNE(n_components=2, random_state=42, perplexity=30, n_iter=2000)\n",
        "    X_embedded = tsne.fit_transform(X_feat)\n",
        "\n",
        "    # plot\n",
        "    plt.figure(figsize=(8, 6))\n",
        "    palette = sns.color_palette(\"Set2\", len(set(y_labels)))\n",
        "\n",
        "    sns.scatterplot(\n",
        "        x=X_embedded[:, 0],\n",
        "        y=X_embedded[:, 1],\n",
        "        hue=y_labels,\n",
        "        palette=palette,\n",
        "        edgecolor='black',\n",
        "        s=40,\n",
        "        alpha=0.8,\n",
        "        legend=\"full\"\n",
        "    )\n",
        "\n",
        "    handles, _ = plt.gca().get_legend_handles_labels()\n",
        "    plt.legend(handles, class_names, title=\"Class\", bbox_to_anchor=(1.05, 1), loc='upper left')\n",
        "\n",
        "    plt.title(f\"t-SNE Projection of Protein Sequences ({prefix.upper()} Feature Space)\")\n",
        "    plt.xlabel(\"TSNE-1\")\n",
        "    plt.ylabel(\"TSNE-2\")\n",
        "    plt.tight_layout()\n",
        "    plt.grid(True)\n",
        "\n",
        "    plt.savefig(save_path, dpi=300)\n",
        "    plt.close()\n",
        "    print(f\" t-SNE has saved: {save_path}\")\n"
      ],
      "metadata": {
        "id": "dw6xoeyAOCIV"
      },
      "execution_count": null,
      "outputs": []
    },
    {
      "cell_type": "code",
      "source": [
        "def extract_rnn_features(model, dataloader):\n",
        "    model.eval()\n",
        "    features = []\n",
        "    labels = []\n",
        "    with torch.no_grad():\n",
        "        for X_batch, y_batch in dataloader:\n",
        "            X_batch = X_batch.to(device)\n",
        "            output, _ = model.rnn(model.embedding(X_batch))   # shape: (batch, seq_len, hidden*2)\n",
        "            h_final = torch.mean(output, dim=1)                # 平均池化\n",
        "            features.append(h_final.cpu().numpy())\n",
        "            labels.extend(y_batch.cpu().numpy())\n",
        "    return np.vstack(features), np.array(labels)\n"
      ],
      "metadata": {
        "id": "jxtIjhjmgXXB"
      },
      "execution_count": null,
      "outputs": []
    },
    {
      "cell_type": "code",
      "source": [
        "import numpy as np\n",
        "X_rnn_feat, y_rnn = extract_rnn_features(model, train_loader)\n",
        "\n",
        "plot_tsne_projection(\n",
        "    X_feat=X_rnn_feat,\n",
        "    y_labels=y_rnn,\n",
        "    class_names=[\"DNABinding\", \"Structural\", \"Receptor\", \"Transporter\", \"Enzyme\"],\n",
        "    save_dir=os.path.join(rootPath, \"rnn_results\"),\n",
        "    prefix=\"rnn\"\n",
        ")\n"
      ],
      "metadata": {
        "colab": {
          "base_uri": "https://localhost:8080/"
        },
        "id": "zHOdINCpX1a1",
        "outputId": "503f4613-b7a9-4d35-84b0-28f9e29b409c"
      },
      "execution_count": null,
      "outputs": [
        {
          "output_type": "stream",
          "name": "stderr",
          "text": [
            "/usr/local/lib/python3.11/dist-packages/sklearn/manifold/_t_sne.py:1164: FutureWarning: 'n_iter' was renamed to 'max_iter' in version 1.5 and will be removed in 1.7.\n",
            "  warnings.warn(\n"
          ]
        },
        {
          "output_type": "stream",
          "name": "stdout",
          "text": [
            " t-SNE has saved: /content/gdrive/MyDrive/Colab_Notebooks_Xinyu/Bio/rnn_results/rnn_tsne_plot.png\n"
          ]
        }
      ]
    },
    {
      "cell_type": "code",
      "source": [],
      "metadata": {
        "id": "vVn_sPP4hJsE"
      },
      "execution_count": null,
      "outputs": []
    },
    {
      "cell_type": "code",
      "source": [
        "def save_training_results(\n",
        "    root_path,\n",
        "    train_accuracies,\n",
        "    valid_accuracies,\n",
        "    model,\n",
        "    tokenizer=None,\n",
        "    valid_loader=None,\n",
        "    class_names=None,\n",
        "    prefix=\"\"\n",
        "):\n",
        "    import os\n",
        "    import pandas as pd\n",
        "    import matplotlib.pyplot as plt\n",
        "    from sklearn.metrics import confusion_matrix, ConfusionMatrixDisplay, classification_report\n",
        "    import torch\n",
        "\n",
        "    os.makedirs(root_path, exist_ok=True)\n",
        "\n",
        "    # Step 1: Unify length\n",
        "    min_len = min(len(train_accuracies), len(valid_accuracies))\n",
        "    train_accuracies = train_accuracies[:min_len]\n",
        "    valid_accuracies = valid_accuracies[:min_len]\n",
        "\n",
        "    # Step 2: save CSV\n",
        "    df = pd.DataFrame({\n",
        "        \"Epoch\": list(range(1, min_len + 1)),\n",
        "        \"Train_Accuracy\": train_accuracies,\n",
        "        \"Valid_Accuracy\": valid_accuracies\n",
        "    })\n",
        "    df.to_csv(os.path.join(root_path, f\"{prefix}accuracy_log.csv\"), index=False)\n",
        "\n",
        "    # Step 3: plot\n",
        "    plt.figure()\n",
        "    plt.plot(train_accuracies, label='Train Accuracy')\n",
        "    plt.plot(valid_accuracies, label='Validation Accuracy')\n",
        "    plt.xlabel(\"Epoch\")\n",
        "    plt.ylabel(\"Accuracy\")\n",
        "    plt.title(\"Training and Validation Accuracy\")\n",
        "    plt.legend()\n",
        "    plt.grid(True)\n",
        "    plt.savefig(os.path.join(root_path, f\"{prefix}accuracy_plot.png\"))\n",
        "    plt.close()\n",
        "\n",
        "    # Step 4: confusion metric\n",
        "    if valid_loader and class_names:\n",
        "        model.eval()\n",
        "        all_preds, all_labels = [], []\n",
        "        device = next(model.parameters()).device\n",
        "        with torch.no_grad():\n",
        "            for X_batch, y_batch in valid_loader:\n",
        "                X_batch, y_batch = X_batch.to(device), y_batch.to(device)\n",
        "                outputs = model(X_batch)\n",
        "                preds = outputs.argmax(dim=1)\n",
        "                all_preds.extend(preds.cpu().numpy())\n",
        "                all_labels.extend(y_batch.cpu().numpy())\n",
        "\n",
        "        cm = confusion_matrix(all_labels, all_preds)\n",
        "        disp = ConfusionMatrixDisplay(confusion_matrix=cm, display_labels=class_names)\n",
        "        disp.plot(cmap='Blues', xticks_rotation=45)\n",
        "        plt.title(\"Confusion Matrix\")\n",
        "        plt.savefig(os.path.join(root_path, f\"{prefix}confusion_matrix.png\"))\n",
        "        plt.close()\n",
        "\n",
        "        # Classification report\n",
        "        with open(os.path.join(root_path, f\"{prefix}classification_report.txt\"), \"w\") as f:\n",
        "            f.write(classification_report(all_labels, all_preds, target_names=class_names))"
      ],
      "metadata": {
        "id": "Lrif8-CIsrva"
      },
      "execution_count": null,
      "outputs": []
    },
    {
      "cell_type": "code",
      "source": [
        "save_training_results(\n",
        "    root_path=os.path.join(rootPath, \"rnn_results\"),\n",
        "    train_accuracies=train_accuracies,\n",
        "    valid_accuracies=valid_accuracies,\n",
        "    model=model,\n",
        "    valid_loader=valid_loader,\n",
        "    class_names=[\"DNABinding\", \"Structural\", \"Receptor\", \"Transporter\", \"Enzyme\"],\n",
        "    prefix=\"rnn_\"\n",
        ")\n",
        "\n"
      ],
      "metadata": {
        "id": "6TyuBIXh6_yU"
      },
      "execution_count": null,
      "outputs": []
    },
    {
      "cell_type": "markdown",
      "source": [
        "## Save results"
      ],
      "metadata": {
        "id": "b3HVRJU_24On"
      }
    },
    {
      "cell_type": "markdown",
      "source": [
        "# ESM2"
      ],
      "metadata": {
        "id": "h8OcB3VF7AOc"
      }
    },
    {
      "cell_type": "code",
      "source": [
        "!pip install transformers datasets\n"
      ],
      "metadata": {
        "colab": {
          "base_uri": "https://localhost:8080/"
        },
        "id": "bztyTfeL1_5_",
        "outputId": "8c86c706-a6b4-436b-9a95-002e8f239beb"
      },
      "execution_count": null,
      "outputs": [
        {
          "output_type": "stream",
          "name": "stdout",
          "text": [
            "Requirement already satisfied: transformers in /usr/local/lib/python3.11/dist-packages (4.51.3)\n",
            "Collecting datasets\n",
            "  Downloading datasets-3.5.1-py3-none-any.whl.metadata (19 kB)\n",
            "Requirement already satisfied: filelock in /usr/local/lib/python3.11/dist-packages (from transformers) (3.18.0)\n",
            "Requirement already satisfied: huggingface-hub<1.0,>=0.30.0 in /usr/local/lib/python3.11/dist-packages (from transformers) (0.30.2)\n",
            "Requirement already satisfied: numpy>=1.17 in /usr/local/lib/python3.11/dist-packages (from transformers) (2.0.2)\n",
            "Requirement already satisfied: packaging>=20.0 in /usr/local/lib/python3.11/dist-packages (from transformers) (24.2)\n",
            "Requirement already satisfied: pyyaml>=5.1 in /usr/local/lib/python3.11/dist-packages (from transformers) (6.0.2)\n",
            "Requirement already satisfied: regex!=2019.12.17 in /usr/local/lib/python3.11/dist-packages (from transformers) (2024.11.6)\n",
            "Requirement already satisfied: requests in /usr/local/lib/python3.11/dist-packages (from transformers) (2.32.3)\n",
            "Requirement already satisfied: tokenizers<0.22,>=0.21 in /usr/local/lib/python3.11/dist-packages (from transformers) (0.21.1)\n",
            "Requirement already satisfied: safetensors>=0.4.3 in /usr/local/lib/python3.11/dist-packages (from transformers) (0.5.3)\n",
            "Requirement already satisfied: tqdm>=4.27 in /usr/local/lib/python3.11/dist-packages (from transformers) (4.67.1)\n",
            "Requirement already satisfied: pyarrow>=15.0.0 in /usr/local/lib/python3.11/dist-packages (from datasets) (18.1.0)\n",
            "Collecting dill<0.3.9,>=0.3.0 (from datasets)\n",
            "  Downloading dill-0.3.8-py3-none-any.whl.metadata (10 kB)\n",
            "Requirement already satisfied: pandas in /usr/local/lib/python3.11/dist-packages (from datasets) (2.2.2)\n",
            "Collecting xxhash (from datasets)\n",
            "  Downloading xxhash-3.5.0-cp311-cp311-manylinux_2_17_x86_64.manylinux2014_x86_64.whl.metadata (12 kB)\n",
            "Collecting multiprocess<0.70.17 (from datasets)\n",
            "  Downloading multiprocess-0.70.16-py311-none-any.whl.metadata (7.2 kB)\n",
            "Collecting fsspec<=2025.3.0,>=2023.1.0 (from fsspec[http]<=2025.3.0,>=2023.1.0->datasets)\n",
            "  Downloading fsspec-2025.3.0-py3-none-any.whl.metadata (11 kB)\n",
            "Requirement already satisfied: aiohttp in /usr/local/lib/python3.11/dist-packages (from datasets) (3.11.15)\n",
            "Requirement already satisfied: aiohappyeyeballs>=2.3.0 in /usr/local/lib/python3.11/dist-packages (from aiohttp->datasets) (2.6.1)\n",
            "Requirement already satisfied: aiosignal>=1.1.2 in /usr/local/lib/python3.11/dist-packages (from aiohttp->datasets) (1.3.2)\n",
            "Requirement already satisfied: attrs>=17.3.0 in /usr/local/lib/python3.11/dist-packages (from aiohttp->datasets) (25.3.0)\n",
            "Requirement already satisfied: frozenlist>=1.1.1 in /usr/local/lib/python3.11/dist-packages (from aiohttp->datasets) (1.6.0)\n",
            "Requirement already satisfied: multidict<7.0,>=4.5 in /usr/local/lib/python3.11/dist-packages (from aiohttp->datasets) (6.4.3)\n",
            "Requirement already satisfied: propcache>=0.2.0 in /usr/local/lib/python3.11/dist-packages (from aiohttp->datasets) (0.3.1)\n",
            "Requirement already satisfied: yarl<2.0,>=1.17.0 in /usr/local/lib/python3.11/dist-packages (from aiohttp->datasets) (1.20.0)\n",
            "Requirement already satisfied: typing-extensions>=3.7.4.3 in /usr/local/lib/python3.11/dist-packages (from huggingface-hub<1.0,>=0.30.0->transformers) (4.13.2)\n",
            "Requirement already satisfied: charset-normalizer<4,>=2 in /usr/local/lib/python3.11/dist-packages (from requests->transformers) (3.4.1)\n",
            "Requirement already satisfied: idna<4,>=2.5 in /usr/local/lib/python3.11/dist-packages (from requests->transformers) (3.10)\n",
            "Requirement already satisfied: urllib3<3,>=1.21.1 in /usr/local/lib/python3.11/dist-packages (from requests->transformers) (2.4.0)\n",
            "Requirement already satisfied: certifi>=2017.4.17 in /usr/local/lib/python3.11/dist-packages (from requests->transformers) (2025.4.26)\n",
            "Requirement already satisfied: python-dateutil>=2.8.2 in /usr/local/lib/python3.11/dist-packages (from pandas->datasets) (2.9.0.post0)\n",
            "Requirement already satisfied: pytz>=2020.1 in /usr/local/lib/python3.11/dist-packages (from pandas->datasets) (2025.2)\n",
            "Requirement already satisfied: tzdata>=2022.7 in /usr/local/lib/python3.11/dist-packages (from pandas->datasets) (2025.2)\n",
            "Requirement already satisfied: six>=1.5 in /usr/local/lib/python3.11/dist-packages (from python-dateutil>=2.8.2->pandas->datasets) (1.17.0)\n",
            "Downloading datasets-3.5.1-py3-none-any.whl (491 kB)\n",
            "\u001b[2K   \u001b[90m━━━━━━━━━━━━━━━━━━━━━━━━━━━━━━━━━━━━━━━━\u001b[0m \u001b[32m491.4/491.4 kB\u001b[0m \u001b[31m8.5 MB/s\u001b[0m eta \u001b[36m0:00:00\u001b[0m\n",
            "\u001b[?25hDownloading dill-0.3.8-py3-none-any.whl (116 kB)\n",
            "\u001b[2K   \u001b[90m━━━━━━━━━━━━━━━━━━━━━━━━━━━━━━━━━━━━━━━━\u001b[0m \u001b[32m116.3/116.3 kB\u001b[0m \u001b[31m10.8 MB/s\u001b[0m eta \u001b[36m0:00:00\u001b[0m\n",
            "\u001b[?25hDownloading fsspec-2025.3.0-py3-none-any.whl (193 kB)\n",
            "\u001b[2K   \u001b[90m━━━━━━━━━━━━━━━━━━━━━━━━━━━━━━━━━━━━━━━━\u001b[0m \u001b[32m193.6/193.6 kB\u001b[0m \u001b[31m16.0 MB/s\u001b[0m eta \u001b[36m0:00:00\u001b[0m\n",
            "\u001b[?25hDownloading multiprocess-0.70.16-py311-none-any.whl (143 kB)\n",
            "\u001b[2K   \u001b[90m━━━━━━━━━━━━━━━━━━━━━━━━━━━━━━━━━━━━━━━━\u001b[0m \u001b[32m143.5/143.5 kB\u001b[0m \u001b[31m12.9 MB/s\u001b[0m eta \u001b[36m0:00:00\u001b[0m\n",
            "\u001b[?25hDownloading xxhash-3.5.0-cp311-cp311-manylinux_2_17_x86_64.manylinux2014_x86_64.whl (194 kB)\n",
            "\u001b[2K   \u001b[90m━━━━━━━━━━━━━━━━━━━━━━━━━━━━━━━━━━━━━━━━\u001b[0m \u001b[32m194.8/194.8 kB\u001b[0m \u001b[31m15.2 MB/s\u001b[0m eta \u001b[36m0:00:00\u001b[0m\n",
            "\u001b[?25hInstalling collected packages: xxhash, fsspec, dill, multiprocess, datasets\n",
            "  Attempting uninstall: fsspec\n",
            "    Found existing installation: fsspec 2025.3.2\n",
            "    Uninstalling fsspec-2025.3.2:\n",
            "      Successfully uninstalled fsspec-2025.3.2\n",
            "\u001b[31mERROR: pip's dependency resolver does not currently take into account all the packages that are installed. This behaviour is the source of the following dependency conflicts.\n",
            "gcsfs 2025.3.2 requires fsspec==2025.3.2, but you have fsspec 2025.3.0 which is incompatible.\n",
            "torch 2.6.0+cu124 requires nvidia-cublas-cu12==12.4.5.8; platform_system == \"Linux\" and platform_machine == \"x86_64\", but you have nvidia-cublas-cu12 12.5.3.2 which is incompatible.\n",
            "torch 2.6.0+cu124 requires nvidia-cuda-cupti-cu12==12.4.127; platform_system == \"Linux\" and platform_machine == \"x86_64\", but you have nvidia-cuda-cupti-cu12 12.5.82 which is incompatible.\n",
            "torch 2.6.0+cu124 requires nvidia-cuda-nvrtc-cu12==12.4.127; platform_system == \"Linux\" and platform_machine == \"x86_64\", but you have nvidia-cuda-nvrtc-cu12 12.5.82 which is incompatible.\n",
            "torch 2.6.0+cu124 requires nvidia-cuda-runtime-cu12==12.4.127; platform_system == \"Linux\" and platform_machine == \"x86_64\", but you have nvidia-cuda-runtime-cu12 12.5.82 which is incompatible.\n",
            "torch 2.6.0+cu124 requires nvidia-cudnn-cu12==9.1.0.70; platform_system == \"Linux\" and platform_machine == \"x86_64\", but you have nvidia-cudnn-cu12 9.3.0.75 which is incompatible.\n",
            "torch 2.6.0+cu124 requires nvidia-cufft-cu12==11.2.1.3; platform_system == \"Linux\" and platform_machine == \"x86_64\", but you have nvidia-cufft-cu12 11.2.3.61 which is incompatible.\n",
            "torch 2.6.0+cu124 requires nvidia-curand-cu12==10.3.5.147; platform_system == \"Linux\" and platform_machine == \"x86_64\", but you have nvidia-curand-cu12 10.3.6.82 which is incompatible.\n",
            "torch 2.6.0+cu124 requires nvidia-cusolver-cu12==11.6.1.9; platform_system == \"Linux\" and platform_machine == \"x86_64\", but you have nvidia-cusolver-cu12 11.6.3.83 which is incompatible.\n",
            "torch 2.6.0+cu124 requires nvidia-cusparse-cu12==12.3.1.170; platform_system == \"Linux\" and platform_machine == \"x86_64\", but you have nvidia-cusparse-cu12 12.5.1.3 which is incompatible.\n",
            "torch 2.6.0+cu124 requires nvidia-nvjitlink-cu12==12.4.127; platform_system == \"Linux\" and platform_machine == \"x86_64\", but you have nvidia-nvjitlink-cu12 12.5.82 which is incompatible.\u001b[0m\u001b[31m\n",
            "\u001b[0mSuccessfully installed datasets-3.5.1 dill-0.3.8 fsspec-2025.3.0 multiprocess-0.70.16 xxhash-3.5.0\n"
          ]
        }
      ]
    },
    {
      "cell_type": "code",
      "source": [
        "from transformers import AutoTokenizer, AutoModelForSequenceClassification\n",
        "\n",
        "model_name = \"facebook/esm2_t6_8M_UR50D\"\n",
        "tokenizer = AutoTokenizer.from_pretrained(model_name)\n",
        "model = AutoModelForSequenceClassification.from_pretrained(model_name, num_labels=5)\n"
      ],
      "metadata": {
        "colab": {
          "base_uri": "https://localhost:8080/",
          "height": 371,
          "referenced_widgets": [
            "9296762e5ad4496b926da3e2d1d2e2b4",
            "ad5744eaa54941099d7efe981217de01",
            "e3f7d9ef8aff4785b32c817b597237be",
            "abb45bf1c84f4444a665bb679ee11d34",
            "0aa9a8630f5b459bbe26c5098e0b9d9b",
            "5e627ec70dea48199619f3c8ed02967d",
            "5b3c5a72475f4a2885b8314be703b0cd",
            "34102245e78b4ef2a3545bed057a9eb6",
            "b1ee57502c1e479b9e1ff86324a70b26",
            "daffe05d9c194e01b1d0363221212ef5",
            "b5e0694c7bdd4f2ca1b1aede72470227",
            "fb3a79a4ae07430083c21a6398532377",
            "a1283faec2d3404ba0b63e5c26d741bc",
            "5e8bea33503748c19207699817944f07",
            "60916b31dd50455f88ee950a910f8316",
            "c0bdecebb5734ff08d4f03a1a3e379f1",
            "4cd244a3e11d42ceaf259187092b79d4",
            "7710dc429a1449d9843c8216b85ee9be",
            "fb6567fc1e454565ad6b04e8b42251d4",
            "41ac14de9364494cba8e1d8e306b1015",
            "ebb9f54ef6ad4bb1bc756657496f129f",
            "e422ada8a9364affa8e0676afc7888af",
            "aba44e8f6a9b4632a5c0fe1a2c6ae4ad",
            "3593ccd5f6574f43a47009b1d1a90652",
            "9313f3732cd5465a82a68b57e5bee59e",
            "71f74df89fe84374a64452dc8db40cc8",
            "94a5dae3544f482fb5b4077a6b1c29f3",
            "4714e3c457744ab2ab3bf9529e3d275c",
            "811ffb1bec32415daf07c6c6825600ec",
            "9a90ff46609e4a82804013d058f4a9e0",
            "976727143ead4e2592412dc1e41a967c",
            "1df1fbfade1b41bea4276599a6c3b6d0",
            "a503a36c8581425ea99bb68dbf583881",
            "8e0886c73d904b2db4242ae261c2235b",
            "d1b0dc88e1974cd08bc54c88caaee50b",
            "d03e7af549284cdab7e7cb876d3c6080",
            "836eab99bf6647a68cd57917824ef16a",
            "bc7ec6818bb34cc09f461271fc9007c8",
            "95857378f9b14c4aa3f9d8e4e9536c9d",
            "fe1652d974784c11bfca7cda16940899",
            "601e1fbaf44146f484a725beed537a05",
            "0c7955226ae3408fa490d165746e80aa",
            "1ce7574276ae49edb523993e5fd3ee09",
            "9876c395d7c249299843b8ff6549202d",
            "fec74835adf94210ac3b9c0e09bdb63d",
            "e65b1c352c28475aae9c68d8bd4260e0",
            "e7647327d30e4843b7f97a26a9ad2eda",
            "65557e18e98f4979b1c3bdaaa2f95b57",
            "544a8f143a9e4cb3899452a5297f8545",
            "0886de919aac4d588f439b0826ffba09",
            "48976e81f34340b3ba3280cff52d65ee",
            "ebb3f4121d0c48bd88b57ca0d511ff8f",
            "53eacb3658cc47d4a2f7c4fa97fd8644",
            "845f1c2bcee14a34adce0ac6d629f202",
            "65eee211ebce472e8f3528c1e75e68ba"
          ]
        },
        "id": "_LzRFCcPEkc6",
        "outputId": "beed2fef-e3d6-4245-976e-8f09dd5587ae"
      },
      "execution_count": null,
      "outputs": [
        {
          "output_type": "stream",
          "name": "stderr",
          "text": [
            "/usr/local/lib/python3.11/dist-packages/huggingface_hub/utils/_auth.py:94: UserWarning: \n",
            "The secret `HF_TOKEN` does not exist in your Colab secrets.\n",
            "To authenticate with the Hugging Face Hub, create a token in your settings tab (https://huggingface.co/settings/tokens), set it as secret in your Google Colab and restart your session.\n",
            "You will be able to reuse this secret in all of your notebooks.\n",
            "Please note that authentication is recommended but still optional to access public models or datasets.\n",
            "  warnings.warn(\n"
          ]
        },
        {
          "output_type": "display_data",
          "data": {
            "text/plain": [
              "tokenizer_config.json:   0%|          | 0.00/95.0 [00:00<?, ?B/s]"
            ],
            "application/vnd.jupyter.widget-view+json": {
              "version_major": 2,
              "version_minor": 0,
              "model_id": "9296762e5ad4496b926da3e2d1d2e2b4"
            }
          },
          "metadata": {}
        },
        {
          "output_type": "display_data",
          "data": {
            "text/plain": [
              "vocab.txt:   0%|          | 0.00/93.0 [00:00<?, ?B/s]"
            ],
            "application/vnd.jupyter.widget-view+json": {
              "version_major": 2,
              "version_minor": 0,
              "model_id": "fb3a79a4ae07430083c21a6398532377"
            }
          },
          "metadata": {}
        },
        {
          "output_type": "display_data",
          "data": {
            "text/plain": [
              "special_tokens_map.json:   0%|          | 0.00/125 [00:00<?, ?B/s]"
            ],
            "application/vnd.jupyter.widget-view+json": {
              "version_major": 2,
              "version_minor": 0,
              "model_id": "aba44e8f6a9b4632a5c0fe1a2c6ae4ad"
            }
          },
          "metadata": {}
        },
        {
          "output_type": "display_data",
          "data": {
            "text/plain": [
              "config.json:   0%|          | 0.00/775 [00:00<?, ?B/s]"
            ],
            "application/vnd.jupyter.widget-view+json": {
              "version_major": 2,
              "version_minor": 0,
              "model_id": "8e0886c73d904b2db4242ae261c2235b"
            }
          },
          "metadata": {}
        },
        {
          "output_type": "stream",
          "name": "stderr",
          "text": [
            "Xet Storage is enabled for this repo, but the 'hf_xet' package is not installed. Falling back to regular HTTP download. For better performance, install the package with: `pip install huggingface_hub[hf_xet]` or `pip install hf_xet`\n",
            "WARNING:huggingface_hub.file_download:Xet Storage is enabled for this repo, but the 'hf_xet' package is not installed. Falling back to regular HTTP download. For better performance, install the package with: `pip install huggingface_hub[hf_xet]` or `pip install hf_xet`\n"
          ]
        },
        {
          "output_type": "display_data",
          "data": {
            "text/plain": [
              "model.safetensors:   0%|          | 0.00/31.4M [00:00<?, ?B/s]"
            ],
            "application/vnd.jupyter.widget-view+json": {
              "version_major": 2,
              "version_minor": 0,
              "model_id": "fec74835adf94210ac3b9c0e09bdb63d"
            }
          },
          "metadata": {}
        },
        {
          "output_type": "stream",
          "name": "stderr",
          "text": [
            "Some weights of EsmForSequenceClassification were not initialized from the model checkpoint at facebook/esm2_t6_8M_UR50D and are newly initialized: ['classifier.dense.bias', 'classifier.dense.weight', 'classifier.out_proj.bias', 'classifier.out_proj.weight']\n",
            "You should probably TRAIN this model on a down-stream task to be able to use it for predictions and inference.\n"
          ]
        }
      ]
    },
    {
      "cell_type": "code",
      "source": [
        "from datasets import Dataset, DatasetDict\n",
        "\n",
        "train_dataset = Dataset.from_dict({\"sequence\": X_train, \"label\": y_train})\n",
        "valid_dataset = Dataset.from_dict({\"sequence\": X_valid, \"label\": y_valid})\n",
        "test_dataset  = Dataset.from_dict({\"sequence\": X_test, \"label\": y_test})\n",
        "\n",
        "# DatasetDict\n",
        "dataset_dict = DatasetDict({\n",
        "    \"train\": train_dataset,\n",
        "    \"validation\": valid_dataset,\n",
        "    \"test\": test_dataset\n",
        "})\n",
        "\n",
        "print(dataset_dict)\n",
        "\n",
        "# check\n",
        "print(dataset_dict[\"train\"][0])\n"
      ],
      "metadata": {
        "id": "MOGq0IiUEq4u"
      },
      "execution_count": null,
      "outputs": []
    },
    {
      "cell_type": "code",
      "source": [
        "from datasets import Dataset\n",
        "import random\n",
        "\n",
        "def preprocess_function(examples):\n",
        "    return tokenizer(\n",
        "        examples[\"sequence\"],\n",
        "        padding=\"max_length\",\n",
        "        truncation=True,\n",
        "        max_length=128,\n",
        "    )\n",
        "\n",
        "encoded_dataset = dataset_dict.map(preprocess_function, batched=True)\n"
      ],
      "metadata": {
        "id": "ThJ16_dOFVoe"
      },
      "execution_count": null,
      "outputs": []
    },
    {
      "cell_type": "code",
      "source": [
        "!pip install transformers==4.51.3\n",
        "\n"
      ],
      "metadata": {
        "colab": {
          "base_uri": "https://localhost:8080/"
        },
        "id": "I8hZsSXeJYVQ",
        "outputId": "be5cbdbc-edf6-4f6b-f5fa-0a914d589186"
      },
      "execution_count": null,
      "outputs": [
        {
          "output_type": "stream",
          "name": "stdout",
          "text": [
            "Requirement already satisfied: transformers==4.51.3 in /usr/local/lib/python3.11/dist-packages (4.51.3)\n",
            "Requirement already satisfied: filelock in /usr/local/lib/python3.11/dist-packages (from transformers==4.51.3) (3.18.0)\n",
            "Requirement already satisfied: huggingface-hub<1.0,>=0.30.0 in /usr/local/lib/python3.11/dist-packages (from transformers==4.51.3) (0.30.2)\n",
            "Requirement already satisfied: numpy>=1.17 in /usr/local/lib/python3.11/dist-packages (from transformers==4.51.3) (2.0.2)\n",
            "Requirement already satisfied: packaging>=20.0 in /usr/local/lib/python3.11/dist-packages (from transformers==4.51.3) (24.2)\n",
            "Requirement already satisfied: pyyaml>=5.1 in /usr/local/lib/python3.11/dist-packages (from transformers==4.51.3) (6.0.2)\n",
            "Requirement already satisfied: regex!=2019.12.17 in /usr/local/lib/python3.11/dist-packages (from transformers==4.51.3) (2024.11.6)\n",
            "Requirement already satisfied: requests in /usr/local/lib/python3.11/dist-packages (from transformers==4.51.3) (2.32.3)\n",
            "Requirement already satisfied: tokenizers<0.22,>=0.21 in /usr/local/lib/python3.11/dist-packages (from transformers==4.51.3) (0.21.1)\n",
            "Requirement already satisfied: safetensors>=0.4.3 in /usr/local/lib/python3.11/dist-packages (from transformers==4.51.3) (0.5.3)\n",
            "Requirement already satisfied: tqdm>=4.27 in /usr/local/lib/python3.11/dist-packages (from transformers==4.51.3) (4.67.1)\n",
            "Requirement already satisfied: fsspec>=2023.5.0 in /usr/local/lib/python3.11/dist-packages (from huggingface-hub<1.0,>=0.30.0->transformers==4.51.3) (2025.3.0)\n",
            "Requirement already satisfied: typing-extensions>=3.7.4.3 in /usr/local/lib/python3.11/dist-packages (from huggingface-hub<1.0,>=0.30.0->transformers==4.51.3) (4.13.2)\n",
            "Requirement already satisfied: charset-normalizer<4,>=2 in /usr/local/lib/python3.11/dist-packages (from requests->transformers==4.51.3) (3.4.1)\n",
            "Requirement already satisfied: idna<4,>=2.5 in /usr/local/lib/python3.11/dist-packages (from requests->transformers==4.51.3) (3.10)\n",
            "Requirement already satisfied: urllib3<3,>=1.21.1 in /usr/local/lib/python3.11/dist-packages (from requests->transformers==4.51.3) (2.4.0)\n",
            "Requirement already satisfied: certifi>=2017.4.17 in /usr/local/lib/python3.11/dist-packages (from requests->transformers==4.51.3) (2025.4.26)\n"
          ]
        }
      ]
    },
    {
      "cell_type": "code",
      "source": [
        "import transformers\n",
        "print(transformers.__version__)\n"
      ],
      "metadata": {
        "colab": {
          "base_uri": "https://localhost:8080/"
        },
        "id": "MdJDSqv6I-jp",
        "outputId": "e99f0bc1-190e-4690-a447-09bde23852d2"
      },
      "execution_count": null,
      "outputs": [
        {
          "output_type": "stream",
          "name": "stdout",
          "text": [
            "4.51.3\n"
          ]
        }
      ]
    },
    {
      "cell_type": "code",
      "source": [
        "from sklearn.metrics import accuracy_score\n",
        "import numpy as np\n",
        "\n",
        "def compute_metrics(eval_pred):\n",
        "    logits, labels = eval_pred\n",
        "    predictions = np.argmax(logits, axis=-1)\n",
        "    return {\"accuracy\": accuracy_score(labels, predictions)}"
      ],
      "metadata": {
        "id": "kTnMJfP1MPDc"
      },
      "execution_count": null,
      "outputs": []
    },
    {
      "cell_type": "code",
      "source": [
        "from transformers import (\n",
        "    TrainerCallback,\n",
        "    Trainer,\n",
        "    TrainingArguments,\n",
        "    EarlyStoppingCallback\n",
        ")\n",
        "import os\n",
        "\n",
        "os.environ[\"WANDB_DISABLED\"] = \"true\"\n",
        "\n",
        "class MetricsLoggerCallback(TrainerCallback):\n",
        "    def __init__(self):\n",
        "        self.train_accuracies = []\n",
        "        self.valid_accuracies = []\n",
        "\n",
        "    def on_evaluate(self, args, state, control, metrics=None, **kwargs):\n",
        "        if metrics and \"eval_accuracy\" in metrics:\n",
        "            self.valid_accuracies.append(metrics[\"eval_accuracy\"])\n",
        "\n",
        "    def on_log(self, args, state, control, logs=None, **kwargs):\n",
        "        if logs and \"train_accuracy\" in logs:\n",
        "            self.train_accuracies.append(logs[\"train_accuracy\"])\n",
        "\n",
        "logger_callback = MetricsLoggerCallback()\n",
        "\n",
        "training_args = TrainingArguments(\n",
        "    output_dir=os.path.join(rootPath, \"esm2_trainer_output\"),\n",
        "    eval_strategy=\"epoch\",\n",
        "    save_strategy=\"epoch\",\n",
        "    learning_rate=2e-5,\n",
        "    per_device_train_batch_size=32,\n",
        "    per_device_eval_batch_size=32,\n",
        "    num_train_epochs=50,\n",
        "    weight_decay=0.01,\n",
        "    load_best_model_at_end=True,\n",
        "    metric_for_best_model=\"accuracy\",\n",
        "    report_to=\"none\"\n",
        ")\n",
        "\n",
        "trainer = Trainer(\n",
        "    model=model,\n",
        "    args=training_args,\n",
        "    train_dataset=encoded_dataset[\"train\"],\n",
        "    eval_dataset=encoded_dataset[\"validation\"],\n",
        "    compute_metrics=compute_metrics,\n",
        "    callbacks=[\n",
        "        logger_callback,\n",
        "        EarlyStoppingCallback(early_stopping_patience=5) ]\n",
        ")\n",
        "\n",
        "trainer.train()\n"
      ],
      "metadata": {
        "colab": {
          "base_uri": "https://localhost:8080/",
          "height": 486
        },
        "id": "P0LCA8D1FgN4",
        "outputId": "f385d6cf-d0c9-463a-c3cc-e3e41a9bf095"
      },
      "execution_count": null,
      "outputs": [
        {
          "output_type": "display_data",
          "data": {
            "text/plain": [
              "<IPython.core.display.HTML object>"
            ],
            "text/html": [
              "\n",
              "    <div>\n",
              "      \n",
              "      <progress value='756' max='3150' style='width:300px; height:20px; vertical-align: middle;'></progress>\n",
              "      [ 756/3150 01:42 < 05:26, 7.34 it/s, Epoch 12/50]\n",
              "    </div>\n",
              "    <table border=\"1\" class=\"dataframe\">\n",
              "  <thead>\n",
              " <tr style=\"text-align: left;\">\n",
              "      <th>Epoch</th>\n",
              "      <th>Training Loss</th>\n",
              "      <th>Validation Loss</th>\n",
              "      <th>Accuracy</th>\n",
              "    </tr>\n",
              "  </thead>\n",
              "  <tbody>\n",
              "    <tr>\n",
              "      <td>1</td>\n",
              "      <td>No log</td>\n",
              "      <td>1.354738</td>\n",
              "      <td>0.628000</td>\n",
              "    </tr>\n",
              "    <tr>\n",
              "      <td>2</td>\n",
              "      <td>No log</td>\n",
              "      <td>1.128673</td>\n",
              "      <td>0.668000</td>\n",
              "    </tr>\n",
              "    <tr>\n",
              "      <td>3</td>\n",
              "      <td>No log</td>\n",
              "      <td>1.005029</td>\n",
              "      <td>0.688000</td>\n",
              "    </tr>\n",
              "    <tr>\n",
              "      <td>4</td>\n",
              "      <td>No log</td>\n",
              "      <td>0.936124</td>\n",
              "      <td>0.700000</td>\n",
              "    </tr>\n",
              "    <tr>\n",
              "      <td>5</td>\n",
              "      <td>No log</td>\n",
              "      <td>0.889113</td>\n",
              "      <td>0.708000</td>\n",
              "    </tr>\n",
              "    <tr>\n",
              "      <td>6</td>\n",
              "      <td>No log</td>\n",
              "      <td>0.850811</td>\n",
              "      <td>0.732000</td>\n",
              "    </tr>\n",
              "    <tr>\n",
              "      <td>7</td>\n",
              "      <td>No log</td>\n",
              "      <td>0.829204</td>\n",
              "      <td>0.740000</td>\n",
              "    </tr>\n",
              "    <tr>\n",
              "      <td>8</td>\n",
              "      <td>0.867200</td>\n",
              "      <td>0.825875</td>\n",
              "      <td>0.724000</td>\n",
              "    </tr>\n",
              "    <tr>\n",
              "      <td>9</td>\n",
              "      <td>0.867200</td>\n",
              "      <td>0.814112</td>\n",
              "      <td>0.736000</td>\n",
              "    </tr>\n",
              "    <tr>\n",
              "      <td>10</td>\n",
              "      <td>0.867200</td>\n",
              "      <td>0.828648</td>\n",
              "      <td>0.736000</td>\n",
              "    </tr>\n",
              "    <tr>\n",
              "      <td>11</td>\n",
              "      <td>0.867200</td>\n",
              "      <td>0.863587</td>\n",
              "      <td>0.720000</td>\n",
              "    </tr>\n",
              "    <tr>\n",
              "      <td>12</td>\n",
              "      <td>0.867200</td>\n",
              "      <td>0.861889</td>\n",
              "      <td>0.736000</td>\n",
              "    </tr>\n",
              "  </tbody>\n",
              "</table><p>"
            ]
          },
          "metadata": {}
        },
        {
          "output_type": "execute_result",
          "data": {
            "text/plain": [
              "TrainOutput(global_step=756, training_loss=0.67519530038985, metrics={'train_runtime': 103.9658, 'train_samples_per_second': 961.855, 'train_steps_per_second': 30.298, 'total_flos': 138292457472000.0, 'train_loss': 0.67519530038985, 'epoch': 12.0})"
            ]
          },
          "metadata": {},
          "execution_count": 28
        }
      ]
    },
    {
      "cell_type": "code",
      "source": [
        "import os\n",
        "import pandas as pd\n",
        "import matplotlib.pyplot as plt\n",
        "from sklearn.metrics import accuracy_score, classification_report, confusion_matrix, ConfusionMatrixDisplay\n",
        "\n",
        "def save_esm2_results(y_true, y_pred, class_names, save_dir, prefix=\"esm2\"):\n",
        "    os.makedirs(save_dir, exist_ok=True)\n",
        "\n",
        "    # 1. Acc\n",
        "    acc = accuracy_score(y_true, y_pred)\n",
        "    acc_df = pd.DataFrame({\n",
        "        \"Epoch\": [1],\n",
        "        \"Train_Accuracy\": [None],\n",
        "        \"Valid_Accuracy\": [acc]\n",
        "    })\n",
        "    acc_df.to_csv(os.path.join(save_dir, f\"{prefix}_accuracy_log.csv\"), index=False)\n",
        "\n",
        "    # 2. classification report\n",
        "    report_path = os.path.join(save_dir, f\"{prefix}_classification_report.txt\")\n",
        "    with open(report_path, \"w\") as f:\n",
        "        f.write(classification_report(y_true, y_pred, target_names=class_names))\n",
        "\n",
        "    # 3. Confusion metric\n",
        "    cm = confusion_matrix(y_true, y_pred)\n",
        "    disp = ConfusionMatrixDisplay(confusion_matrix=cm, display_labels=class_names)\n",
        "    disp.plot(cmap=\"Blues\", xticks_rotation=45)\n",
        "    plt.title(\"Confusion Matrix\")\n",
        "    plt.tight_layout()\n",
        "    plt.savefig(os.path.join(save_dir, f\"{prefix}_confusion_matrix.png\"))\n",
        "    plt.close()\n",
        "\n",
        "    print(f\"Saving acc、classification report and confusion metric to : {save_dir}\")\n"
      ],
      "metadata": {
        "id": "G-HIJxiRr8j8"
      },
      "execution_count": null,
      "outputs": []
    },
    {
      "cell_type": "code",
      "source": [
        "\n",
        "\n",
        "y_pred_val = trainer.predict(encoded_dataset[\"validation\"]).predictions.argmax(axis=1)\n",
        "y_true_val = encoded_dataset[\"validation\"][\"label\"]\n",
        "\n",
        "save_esm2_results(\n",
        "    y_true=y_true_val,\n",
        "    y_pred=y_pred_val,\n",
        "    class_names=[\"DNABinding\", \"Structural\", \"Receptor\", \"Transporter\", \"Enzyme\"],\n",
        "    save_dir=os.path.join(rootPath, \"esm2_results\"),\n",
        "    prefix=\"esm2\"\n",
        ")\n",
        "\n"
      ],
      "metadata": {
        "id": "TQYroUInGDuG",
        "colab": {
          "base_uri": "https://localhost:8080/",
          "height": 34
        },
        "outputId": "e554870c-5a7a-4d01-a2cf-daf8f88235af"
      },
      "execution_count": null,
      "outputs": [
        {
          "output_type": "display_data",
          "data": {
            "text/plain": [
              "<IPython.core.display.HTML object>"
            ],
            "text/html": []
          },
          "metadata": {}
        },
        {
          "output_type": "stream",
          "name": "stdout",
          "text": [
            "✅ 已保存准确率、分类报告和混淆矩阵到: /content/gdrive/MyDrive/Colab_Notebooks_Xinyu/Bio/esm2_results\n"
          ]
        }
      ]
    },
    {
      "cell_type": "code",
      "source": [
        "import torch\n",
        "import numpy as np\n",
        "from tqdm import tqdm\n",
        "\n",
        "def extract_cls_features(model, tokenizer, sequences, max_length=128, batch_size=16, device=\"cuda\"):\n",
        "    model.eval()\n",
        "    model.to(device)\n",
        "\n",
        "    all_cls_vectors = []\n",
        "\n",
        "    for i in tqdm(range(0, len(sequences), batch_size)):\n",
        "        batch_seqs = sequences[i:i + batch_size]\n",
        "        inputs = tokenizer(batch_seqs, padding=\"max_length\", truncation=True,\n",
        "                           max_length=max_length, return_tensors=\"pt\")\n",
        "        inputs = {k: v.to(device) for k, v in inputs.items()}\n",
        "\n",
        "        with torch.no_grad():\n",
        "            outputs = model(**inputs, output_hidden_states=True)\n",
        "            cls_vec = outputs.hidden_states[-1][:, 0, :]\n",
        "            all_cls_vectors.append(cls_vec.cpu().numpy())\n",
        "\n",
        "    return np.concatenate(all_cls_vectors, axis=0)\n",
        "\n",
        "\n",
        "\n",
        "X_train_cls = extract_cls_features(model, tokenizer, X_train, device=\"cuda\")\n",
        "plot_tsne_projection(\n",
        "    X_feat=X_train_cls,\n",
        "    y_labels=y_train,\n",
        "    class_names=[\"DNABinding\", \"Structural\", \"Receptor\", \"Transporter\", \"Enzyme\"],\n",
        "    save_dir=os.path.join(rootPath, \"esm2_results\"),\n",
        "    prefix=\"esm2\"\n",
        ")\n",
        "\n"
      ],
      "metadata": {
        "colab": {
          "base_uri": "https://localhost:8080/"
        },
        "id": "0GbxsLL3qoP5",
        "outputId": "ba266ef9-0918-45ee-eddd-d5f2d7c503b9"
      },
      "execution_count": null,
      "outputs": [
        {
          "output_type": "stream",
          "name": "stderr",
          "text": [
            "100%|██████████| 125/125 [00:04<00:00, 25.53it/s]\n",
            "/usr/local/lib/python3.11/dist-packages/sklearn/manifold/_t_sne.py:1164: FutureWarning: 'n_iter' was renamed to 'max_iter' in version 1.5 and will be removed in 1.7.\n",
            "  warnings.warn(\n"
          ]
        },
        {
          "output_type": "stream",
          "name": "stdout",
          "text": [
            "✅ t-SNE 图已保存: /content/gdrive/MyDrive/Colab_Notebooks_Xinyu/Bio/esm2_results/esm2_tsne_plot.png\n"
          ]
        }
      ]
    },
    {
      "cell_type": "code",
      "source": [],
      "metadata": {
        "id": "2I63nh0vqb88"
      },
      "execution_count": null,
      "outputs": []
    },
    {
      "cell_type": "markdown",
      "source": [
        "# KNN"
      ],
      "metadata": {
        "id": "KcI_xSnghh_3"
      }
    },
    {
      "cell_type": "code",
      "source": [
        "from sklearn.neighbors import KNeighborsClassifier\n",
        "from sklearn.metrics import classification_report, confusion_matrix, ConfusionMatrixDisplay\n",
        "import pandas as pd\n",
        "# mapping\n",
        "amino_acids = 'ACDEFGHIKLMNPQRSTVWY'\n",
        "aa_to_idx = {aa: i for i, aa in enumerate(amino_acids)}\n",
        "\n",
        "# tokenizer\n",
        "def sequence_to_freq_vector(seq):\n",
        "    vec = np.zeros(len(aa_to_idx), dtype=np.float32)\n",
        "    for aa in seq:\n",
        "        if aa in aa_to_idx:\n",
        "            vec[aa_to_idx[aa]] += 1\n",
        "    return vec / len(seq) if len(seq) > 0 else vec\n",
        "\n",
        "# feature\n",
        "X_train_feat = np.array([sequence_to_freq_vector(seq) for seq in X_train])\n",
        "X_valid_feat = np.array([sequence_to_freq_vector(seq) for seq in X_valid])\n",
        "\n",
        "# build KNN\n",
        "knn = KNeighborsClassifier(n_neighbors=3)\n",
        "knn.fit(X_train_feat, y_train)\n",
        "\n",
        "# prediction\n",
        "y_pred = knn.predict(X_valid_feat)\n",
        "\n",
        "class_names = [\"DNABinding\", \"Structural\", \"Receptor\", \"Transporter\", \"Enzyme\"]\n",
        "\n",
        "# output\n",
        "print(\"\\n📋 Classification Report:\")\n",
        "print(classification_report(y_valid, y_pred, target_names=class_names))\n",
        "\n",
        "# confusion\n",
        "cm = confusion_matrix(y_valid, y_pred)\n",
        "disp = ConfusionMatrixDisplay(confusion_matrix=cm, display_labels=class_names)\n",
        "disp.plot(cmap='Blues', xticks_rotation=45)\n",
        "plt.title(\"KNN Confusion Matrix (Validation)\")\n",
        "plt.tight_layout()\n",
        "plt.show()"
      ],
      "metadata": {
        "colab": {
          "base_uri": "https://localhost:8080/",
          "height": 730
        },
        "id": "_6ZuC0R1WIXh",
        "outputId": "894e73c3-0a4b-4eb8-d5e0-b18c7f6f6392"
      },
      "execution_count": null,
      "outputs": [
        {
          "output_type": "stream",
          "name": "stdout",
          "text": [
            "\n",
            "📋 Classification Report:\n",
            "              precision    recall  f1-score   support\n",
            "\n",
            "  DNABinding       0.49      0.50      0.50        50\n",
            "  Structural       0.69      0.66      0.67        50\n",
            "    Receptor       0.75      0.80      0.78        50\n",
            " Transporter       0.83      0.68      0.75        50\n",
            "      Enzyme       0.54      0.62      0.58        50\n",
            "\n",
            "    accuracy                           0.65       250\n",
            "   macro avg       0.66      0.65      0.65       250\n",
            "weighted avg       0.66      0.65      0.65       250\n",
            "\n"
          ]
        },
        {
          "output_type": "display_data",
          "data": {
            "text/plain": [
              "<Figure size 640x480 with 2 Axes>"
            ],
            "image/png": "[encoded data removed]"
          },
          "metadata": {}
        }
      ]
    },
    {
      "cell_type": "code",
      "source": [
        "# saving path\n",
        "save_dir = os.path.join(rootPath, \"knn_results\")\n",
        "os.makedirs(save_dir, exist_ok=True)\n",
        "\n",
        "# 1. acc\n",
        "from sklearn.metrics import accuracy_score\n",
        "val_acc = accuracy_score(y_valid, y_pred)\n",
        "\n",
        "acc_df = pd.DataFrame({\n",
        "    \"Epoch\": [1],\n",
        "    \"Train_Accuracy\": [None],\n",
        "    \"Valid_Accuracy\": [val_acc]\n",
        "})\n",
        "acc_df.to_csv(os.path.join(save_dir, \"knn_accuracy_log.csv\"), index=False)\n",
        "\n",
        "# 2. confusion\n",
        "cm = confusion_matrix(y_valid, y_pred)\n",
        "disp = ConfusionMatrixDisplay(confusion_matrix=cm, display_labels=class_names)\n",
        "disp.plot(cmap='Blues', xticks_rotation=45)\n",
        "plt.title(\"KNN Confusion Matrix (Validation)\")\n",
        "plt.tight_layout()\n",
        "plt.savefig(os.path.join(save_dir, \"knn_confusion_matrix.png\"))\n",
        "plt.close()\n",
        "\n",
        "print(f\"saved: Acc -> CSV，confusion metric -> PNG ({save_dir})\")"
      ],
      "metadata": {
        "colab": {
          "base_uri": "https://localhost:8080/"
        },
        "id": "eDpBbc26lzqb",
        "outputId": "917fc238-bb60-48db-892a-8bd13216903a"
      },
      "execution_count": null,
      "outputs": [
        {
          "output_type": "stream",
          "name": "stdout",
          "text": [
            "✅ 保存完成: 准确率 -> CSV，混淆矩阵 -> PNG (/content/gdrive/MyDrive/Colab_Notebooks_Xinyu/Bio/knn_results)\n"
          ]
        }
      ]
    },
    {
      "cell_type": "code",
      "source": [],
      "metadata": {
        "id": "jeqHDxfmlXWc"
      },
      "execution_count": null,
      "outputs": []
    },
    {
      "cell_type": "code",
      "source": [
        "plot_tsne_projection(X_train_feat, y_train, class_names, save_dir=os.path.join(rootPath, \"knn_results\"), prefix=\"knn\")\n"
      ],
      "metadata": {
        "colab": {
          "base_uri": "https://localhost:8080/"
        },
        "id": "mToBLtYvnxwS",
        "outputId": "3107e50d-c7e6-4757-95aa-00982d68a950"
      },
      "execution_count": null,
      "outputs": [
        {
          "output_type": "stream",
          "name": "stderr",
          "text": [
            "/usr/local/lib/python3.11/dist-packages/sklearn/manifold/_t_sne.py:1164: FutureWarning: 'n_iter' was renamed to 'max_iter' in version 1.5 and will be removed in 1.7.\n",
            "  warnings.warn(\n"
          ]
        },
        {
          "output_type": "stream",
          "name": "stdout",
          "text": [
            "✅ t-SNE 图已保存: /content/gdrive/MyDrive/Colab_Notebooks_Xinyu/Bio/knn_results/knn_tsne_plot.png\n"
          ]
        }
      ]
    },
    {
      "cell_type": "markdown",
      "source": [
        "# SVM"
      ],
      "metadata": {
        "id": "ZcyGoZpanRj4"
      }
    },
    {
      "cell_type": "code",
      "source": [
        "from sklearn.svm import SVC\n",
        "from sklearn.metrics import classification_report, confusion_matrix, ConfusionMatrixDisplay\n",
        "import os\n",
        "import matplotlib.pyplot as plt\n",
        "import pandas as pd\n",
        "\n",
        "svm_dir = os.path.join(rootPath, \"svm_results\")\n",
        "os.makedirs(svm_dir, exist_ok=True)\n",
        "\n",
        "#  SVM\n",
        "svm = SVC(kernel='rbf', C=1.0, gamma='scale')\n",
        "svm.fit(X_train_feat, y_train)\n",
        "\n",
        "# Prediction\n",
        "y_pred = svm.predict(X_valid_feat)\n",
        "\n",
        "print(\"📋 SVM Classification Report:\")\n",
        "print(classification_report(y_valid, y_pred, target_names=class_names))\n",
        "\n",
        "from sklearn.metrics import accuracy_score\n",
        "val_acc = accuracy_score(y_valid, y_pred)\n",
        "\n",
        "acc_df = pd.DataFrame({\n",
        "    \"Epoch\": [1],\n",
        "    \"Train_Accuracy\": [None],\n",
        "    \"Valid_Accuracy\": [val_acc]\n",
        "})\n",
        "acc_df.to_csv(os.path.join(svm_dir, \"svm_accuracy_log.csv\"), index=False)\n",
        "# confusion\n",
        "cm = confusion_matrix(y_valid, y_pred)\n",
        "disp = ConfusionMatrixDisplay(confusion_matrix=cm, display_labels=class_names)\n",
        "disp.plot(cmap=\"Blues\", xticks_rotation=45)\n",
        "plt.title(\"SVM Confusion Matrix (Validation)\")\n",
        "plt.tight_layout()\n",
        "plt.savefig(os.path.join(svm_dir, \"svm_confusion_matrix.png\"))\n",
        "plt.close()\n",
        "\n",
        "# classification report\n",
        "with open(os.path.join(svm_dir, \"svm_classification_report.txt\"), \"w\") as f:\n",
        "    f.write(classification_report(y_valid, y_pred, target_names=class_names))\n",
        "\n",
        "print(f\"SVM results has saved to: {svm_dir}\")\n"
      ],
      "metadata": {
        "colab": {
          "base_uri": "https://localhost:8080/"
        },
        "id": "1yQMuprznT3R",
        "outputId": "855e5d8c-d27e-47a6-df5c-1b3f07859ce9"
      },
      "execution_count": null,
      "outputs": [
        {
          "output_type": "stream",
          "name": "stdout",
          "text": [
            "📋 SVM Classification Report:\n",
            "              precision    recall  f1-score   support\n",
            "\n",
            "  DNABinding       0.59      0.68      0.63        50\n",
            "  Structural       0.68      0.64      0.66        50\n",
            "    Receptor       0.77      0.72      0.74        50\n",
            " Transporter       0.80      0.74      0.77        50\n",
            "      Enzyme       0.65      0.68      0.67        50\n",
            "\n",
            "    accuracy                           0.69       250\n",
            "   macro avg       0.70      0.69      0.69       250\n",
            "weighted avg       0.70      0.69      0.69       250\n",
            "\n",
            "✅ SVM 结果保存至: /content/gdrive/MyDrive/Colab_Notebooks_Xinyu/Bio/svm_results\n"
          ]
        }
      ]
    },
    {
      "cell_type": "code",
      "source": [
        "plot_tsne_projection(X_train_feat, y_train, class_names, save_dir=os.path.join(rootPath, \"svm_results\"), prefix=\"svm\")\n"
      ],
      "metadata": {
        "colab": {
          "base_uri": "https://localhost:8080/"
        },
        "id": "WEfqCVyNn0z6",
        "outputId": "e702df6f-1608-4707-937a-c2a05106799c"
      },
      "execution_count": null,
      "outputs": [
        {
          "output_type": "stream",
          "name": "stderr",
          "text": [
            "/usr/local/lib/python3.11/dist-packages/sklearn/manifold/_t_sne.py:1164: FutureWarning: 'n_iter' was renamed to 'max_iter' in version 1.5 and will be removed in 1.7.\n",
            "  warnings.warn(\n"
          ]
        },
        {
          "output_type": "stream",
          "name": "stdout",
          "text": [
            "✅ t-SNE 图已保存: /content/gdrive/MyDrive/Colab_Notebooks_Xinyu/Bio/svm_results/svm_tsne_plot.png\n"
          ]
        }
      ]
    }
  ]
}